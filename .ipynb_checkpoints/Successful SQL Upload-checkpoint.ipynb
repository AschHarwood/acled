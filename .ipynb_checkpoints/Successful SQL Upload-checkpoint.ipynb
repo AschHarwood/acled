{
 "cells": [
  {
   "cell_type": "code",
   "execution_count": 1,
   "metadata": {
    "collapsed": true
   },
   "outputs": [],
   "source": [
    "import pandas as pd\n",
    "import requests\n",
    "import matplotlib.pyplot as plt\n",
    "import sqlite3 as lite\n",
    "import sqlalchemy\n",
    "%matplotlib inline"
   ]
  },
  {
   "cell_type": "code",
   "execution_count": 2,
   "metadata": {
    "collapsed": true
   },
   "outputs": [],
   "source": [
    "r = requests.get('http://acleddata.com/api/acled/read')"
   ]
  },
  {
   "cell_type": "code",
   "execution_count": 3,
   "metadata": {
    "collapsed": true
   },
   "outputs": [],
   "source": [
    "data = r.json()\n",
    "data_set = data['data']"
   ]
  },
  {
   "cell_type": "code",
   "execution_count": 4,
   "metadata": {
    "collapsed": true
   },
   "outputs": [],
   "source": [
    "df = pd.DataFrame(data_set)"
   ]
  },
  {
   "cell_type": "code",
   "execution_count": 14,
   "metadata": {
    "collapsed": false
   },
   "outputs": [],
   "source": [
    "con = lite.connect('acled5.db')\n",
    "cur = con.cursor()\n",
    "sql_string = \"\"\"CREATE TABLE acled(\n",
    "index INTEGER,\n",
    "  Unnamed: 0 INTEGER,\n",
    "  actor1 TEXT,\n",
    "  actor2 TEXT,\n",
    "  admin1 TEXT,\n",
    "  admin2 TEXT,\n",
    "  admin3 TEXT,\n",
    "  ally_actor_1 TEXT,\n",
    "  ally_actor_2 TEXT,\n",
    "  country TEXT,\n",
    "  data_id INTEGER,\n",
    "  event_date TEXT,\n",
    "  event_id_cnty TEXT,\n",
    "  event_id_no_cnty REAL,\n",
    "  event_type TEXT,\n",
    "  fatalities INTEGER,\n",
    "  geo_precision INTEGER,\n",
    "  gwno INTEGER,\n",
    "  inter1 INTEGER,\n",
    "  inter2 INTEGER,\n",
    "  interaction INTEGER,\n",
    "  latitude REAL,\n",
    "  location TEXT,\n",
    "  longitude REAL,\n",
    "  notes TEXT,\n",
    "  source TEXT,\n",
    "  time_precision INTEGER,\n",
    "  year INTEGER\n",
    ")\"\"\""
   ]
  },
  {
   "cell_type": "code",
   "execution_count": null,
   "metadata": {
    "collapsed": true
   },
   "outputs": [],
   "source": []
  }
 ],
 "metadata": {
  "kernelspec": {
   "display_name": "Python 2",
   "language": "python",
   "name": "python2"
  },
  "language_info": {
   "codemirror_mode": {
    "name": "ipython",
    "version": 2
   },
   "file_extension": ".py",
   "mimetype": "text/x-python",
   "name": "python",
   "nbconvert_exporter": "python",
   "pygments_lexer": "ipython2",
   "version": "2.7.11"
  }
 },
 "nbformat": 4,
 "nbformat_minor": 0
}
