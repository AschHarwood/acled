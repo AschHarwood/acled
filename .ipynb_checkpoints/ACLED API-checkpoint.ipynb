{
 "cells": [
  {
   "cell_type": "markdown",
   "metadata": {},
   "source": [
    "Steps\n",
    "<ul>\n",
    "    <li>download data</li>\n",
    "    <li>store in database</li>\n",
    "    <li>create aggregated indicators</li>\n",
    "    <li>visualize</li>\n",
    "\n",
    "</ul>"
   ]
  },
  {
   "cell_type": "markdown",
   "metadata": {},
   "source": [
    "Indicators\n",
    "<ul>\n",
    "<li>deaths aggregated by month, by country -- line chart x=month, y=# deaths, colorline = country/location</li>"
   ]
  },
  {
   "cell_type": "code",
   "execution_count": 36,
   "metadata": {
    "collapsed": true
   },
   "outputs": [],
   "source": [
    "import pandas as pd\n",
    "import requests\n",
    "import matplotlib.pyplot as plt\n",
    "%matplotlib inline"
   ]
  },
  {
   "cell_type": "code",
   "execution_count": 4,
   "metadata": {
    "collapsed": true
   },
   "outputs": [],
   "source": [
    "r = requests.get('http://acleddata.com/api/acled/read')"
   ]
  },
  {
   "cell_type": "code",
   "execution_count": 5,
   "metadata": {
    "collapsed": true
   },
   "outputs": [],
   "source": [
    "data = r.json()"
   ]
  },
  {
   "cell_type": "code",
   "execution_count": 20,
   "metadata": {
    "collapsed": false
   },
   "outputs": [],
   "source": [
    "data_set = data['data']"
   ]
  },
  {
   "cell_type": "code",
   "execution_count": 23,
   "metadata": {
    "collapsed": false
   },
   "outputs": [
    {
     "data": {
      "text/plain": [
       "[{u'actor1': u'Protesters (Zambia)',\n",
       "  u'actor2': u'',\n",
       "  u'admin1': u'Lusaka',\n",
       "  u'admin2': u'Lusaka',\n",
       "  u'admin3': u'',\n",
       "  u'ally_actor_1': u'',\n",
       "  u'ally_actor_2': u'',\n",
       "  u'country': u'Zambia',\n",
       "  u'data_id': u'83522',\n",
       "  u'event_date': u'2016-07-02',\n",
       "  u'event_id_cnty': u'8188RTA',\n",
       "  u'event_id_no_cnty': u'',\n",
       "  u'event_type': u'Riots/Protests',\n",
       "  u'fatalities': u'0',\n",
       "  u'geo_precision': u'1',\n",
       "  u'gwno': u'551',\n",
       "  u'inter1': u'6',\n",
       "  u'inter2': u'0',\n",
       "  u'interaction': u'60',\n",
       "  u'latitude': u'-15.4166',\n",
       "  u'location': u'Lusaka',\n",
       "  u'longitude': u'28.2833',\n",
       "  u'notes': u'University of Zambia workers go on strike over payment of June salaries.',\n",
       "  u'source': u'Zambian Watchdog',\n",
       "  u'time_precision': u'1',\n",
       "  u'year': u'2016'},\n",
       " {u'actor1': u'Al Shabaab',\n",
       "  u'actor2': u'Civilians (Somalia)',\n",
       "  u'admin1': u'Bay',\n",
       "  u'admin2': u'Baydhabo',\n",
       "  u'admin3': u'',\n",
       "  u'ally_actor_1': u'',\n",
       "  u'ally_actor_2': u'',\n",
       "  u'country': u'Somalia',\n",
       "  u'data_id': u'80863',\n",
       "  u'event_date': u'2016-07-02',\n",
       "  u'event_id_cnty': u'8087RTA',\n",
       "  u'event_id_no_cnty': u'',\n",
       "  u'event_type': u'Remote violence',\n",
       "  u'fatalities': u'2',\n",
       "  u'geo_precision': u'1',\n",
       "  u'gwno': u'520',\n",
       "  u'inter1': u'2',\n",
       "  u'inter2': u'7',\n",
       "  u'interaction': u'27',\n",
       "  u'latitude': u'3.11718',\n",
       "  u'location': u'Baidoa',\n",
       "  u'longitude': u'43.6469',\n",
       "  u'notes': u'Two people were killed and 18 were wounded during an early morning mortar attack against several neighbourhoods of Baidoa. Al Shabaab suspected. ',\n",
       "  u'source': u'Agence France Presse ',\n",
       "  u'time_precision': u'1',\n",
       "  u'year': u'2016'},\n",
       " {u'actor1': u'Military Forces of Libya (2016-) Presidential Guard',\n",
       "  u'actor2': u'Islamic State (Tripoli)',\n",
       "  u'admin1': u'Surt',\n",
       "  u'admin2': u'Surt',\n",
       "  u'admin3': u'',\n",
       "  u'ally_actor_1': u'Misratah Communal Militia (Libya)',\n",
       "  u'ally_actor_2': u'',\n",
       "  u'country': u'Libya',\n",
       "  u'data_id': u'78468',\n",
       "  u'event_date': u'2016-07-02',\n",
       "  u'event_id_cnty': u'8016RTA',\n",
       "  u'event_id_no_cnty': u'',\n",
       "  u'event_type': u'Remote violence',\n",
       "  u'fatalities': u'0',\n",
       "  u'geo_precision': u'1',\n",
       "  u'gwno': u'620',\n",
       "  u'inter1': u'1',\n",
       "  u'inter2': u'2',\n",
       "  u'interaction': u'12',\n",
       "  u'latitude': u'31.2089',\n",
       "  u'location': u'Sirte',\n",
       "  u'longitude': u'16.5887',\n",
       "  u'notes': u'In the past 24 hours, the air force launched nine offensives, four of which targeted Ougadugo centre and its surroundings in Sirte against Islamic State positions.',\n",
       "  u'source': u'Xinhua General News Service',\n",
       "  u'time_precision': u'2',\n",
       "  u'year': u'2016'},\n",
       " {u'actor1': u'Military Forces of Libya (2016-) Presidential Guard',\n",
       "  u'actor2': u'Islamic State (Tripoli)',\n",
       "  u'admin1': u'Surt',\n",
       "  u'admin2': u'Surt',\n",
       "  u'admin3': u'',\n",
       "  u'ally_actor_1': u'Misratah Communal Militia (Libya)',\n",
       "  u'ally_actor_2': u'',\n",
       "  u'country': u'Libya',\n",
       "  u'data_id': u'78467',\n",
       "  u'event_date': u'2016-07-02',\n",
       "  u'event_id_cnty': u'8015RTA',\n",
       "  u'event_id_no_cnty': u'',\n",
       "  u'event_type': u'Battle-Government regains territory',\n",
       "  u'fatalities': u'3',\n",
       "  u'geo_precision': u'1',\n",
       "  u'gwno': u'620',\n",
       "  u'inter1': u'1',\n",
       "  u'inter2': u'2',\n",
       "  u'interaction': u'12',\n",
       "  u'latitude': u'31.2089',\n",
       "  u'location': u'Sirte',\n",
       "  u'longitude': u'16.5887',\n",
       "  u'notes': u'Three Libyan government troops were killed on 2 July in\\xa0clashes\\xa0with the Islamic State (IS) affiliates in Sirte, after taking control of the city center.',\n",
       "  u'source': u'Xinhua General News Service',\n",
       "  u'time_precision': u'1',\n",
       "  u'year': u'2016'},\n",
       " {u'actor1': u'Protesters (Ethiopia)',\n",
       "  u'actor2': u'',\n",
       "  u'admin1': u'Oromia',\n",
       "  u'admin2': u'Horo Guduru',\n",
       "  u'admin3': u'Amuru',\n",
       "  u'ally_actor_1': u'Oromo Ethnic Group (Ethiopia)',\n",
       "  u'ally_actor_2': u'',\n",
       "  u'country': u'Ethiopia',\n",
       "  u'data_id': u'77695',\n",
       "  u'event_date': u'2016-07-02',\n",
       "  u'event_id_cnty': u'7985RTA',\n",
       "  u'event_id_no_cnty': u'',\n",
       "  u'event_type': u'Riots/Protests',\n",
       "  u'fatalities': u'0',\n",
       "  u'geo_precision': u'1',\n",
       "  u'gwno': u'530',\n",
       "  u'inter1': u'6',\n",
       "  u'inter2': u'0',\n",
       "  u'interaction': u'60',\n",
       "  u'latitude': u'9.98333',\n",
       "  u'location': u'Amuru',\n",
       "  u'longitude': u'36.9667',\n",
       "  u'notes': u'People protested against the government agenda in Amuru district, Horo Guduru Walaga.',\n",
       "  u'source': u'Oromiya Media Network',\n",
       "  u'time_precision': u'1',\n",
       "  u'year': u'2016'},\n",
       " {u'actor1': u'Military Forces of Egypt (2014-)',\n",
       "  u'actor2': u'Unidentified Armed Group (Egypt)',\n",
       "  u'admin1': u'North Sinai',\n",
       "  u'admin2': u'Rafah',\n",
       "  u'admin3': u'',\n",
       "  u'ally_actor_1': u'',\n",
       "  u'ally_actor_2': u'',\n",
       "  u'country': u'Egypt',\n",
       "  u'data_id': u'77109',\n",
       "  u'event_date': u'2016-07-02',\n",
       "  u'event_id_cnty': u'7968RTA',\n",
       "  u'event_id_no_cnty': u'',\n",
       "  u'event_type': u'Remote violence',\n",
       "  u'fatalities': u'0',\n",
       "  u'geo_precision': u'1',\n",
       "  u'gwno': u'651',\n",
       "  u'inter1': u'1',\n",
       "  u'inter2': u'3',\n",
       "  u'interaction': u'13',\n",
       "  u'latitude': u'31.2878',\n",
       "  u'location': u'Rafah',\n",
       "  u'longitude': u'34.2369',\n",
       "  u'notes': u'Two military personnel were injured in a roadside bomb explosion targeting an armored vehicle in Rafah, North Sinai, on 2 July.',\n",
       "  u'source': u'Egypt Independent',\n",
       "  u'time_precision': u'1',\n",
       "  u'year': u'2016'},\n",
       " {u'actor1': u'Rioters (Democratic Republic of Congo)',\n",
       "  u'actor2': u'Police Forces of Democratic Republic of Congo (2001-)',\n",
       "  u'admin1': u'Katanga',\n",
       "  u'admin2': u'Kolwezi',\n",
       "  u'admin3': u'Kolwezi',\n",
       "  u'ally_actor_1': u'',\n",
       "  u'ally_actor_2': u'',\n",
       "  u'country': u'Democratic Republic of Congo',\n",
       "  u'data_id': u'76659',\n",
       "  u'event_date': u'2016-07-02',\n",
       "  u'event_id_cnty': u'7951RTA',\n",
       "  u'event_id_no_cnty': u'',\n",
       "  u'event_type': u'Riots/Protests',\n",
       "  u'fatalities': u'0',\n",
       "  u'geo_precision': u'2',\n",
       "  u'gwno': u'490',\n",
       "  u'inter1': u'5',\n",
       "  u'inter2': u'1',\n",
       "  u'interaction': u'15',\n",
       "  u'latitude': u'-10.7167',\n",
       "  u'location': u'Kolwezi',\n",
       "  u'longitude': u'25.4725',\n",
       "  u'notes': u'2 miners were injured in clashes with guards of a COMIDE mining site in Lenga, in Lualaba province, during a riot after they were denied access despite promises by the provincial government. ',\n",
       "  u'source': u'Radio Okapi',\n",
       "  u'time_precision': u'1',\n",
       "  u'year': u'2016'},\n",
       " {u'actor1': u'Rioters (Democratic Republic of Congo)',\n",
       "  u'actor2': u'Police Forces of Democratic Republic of Congo (2001-)',\n",
       "  u'admin1': u'Orientale',\n",
       "  u'admin2': u'Ituri',\n",
       "  u'admin3': u'Djugu',\n",
       "  u'ally_actor_1': u'',\n",
       "  u'ally_actor_2': u'',\n",
       "  u'country': u'Democratic Republic of Congo',\n",
       "  u'data_id': u'76658',\n",
       "  u'event_date': u'2016-07-02',\n",
       "  u'event_id_cnty': u'7950RTA',\n",
       "  u'event_id_no_cnty': u'',\n",
       "  u'event_type': u'Riots/Protests',\n",
       "  u'fatalities': u'0',\n",
       "  u'geo_precision': u'1',\n",
       "  u'gwno': u'490',\n",
       "  u'inter1': u'5',\n",
       "  u'inter2': u'1',\n",
       "  u'interaction': u'15',\n",
       "  u'latitude': u'2.11772',\n",
       "  u'location': u'Kafe',\n",
       "  u'longitude': u'30.1209',\n",
       "  u'notes': u\"Following a death of a prisoner in the custody of the Congolese national police, residents of Kafe burned the offices and buildings belonging to members of the security forces. They also took three women police officers and their dependents hostage, saying they will be released once the cause of the prisoner's death was clarified.\",\n",
       "  u'source': u'Radio Okapi',\n",
       "  u'time_precision': u'1',\n",
       "  u'year': u'2016'},\n",
       " {u'actor1': u'Rioters (Zimbabwe)',\n",
       "  u'actor2': u'',\n",
       "  u'admin1': u'Manicaland',\n",
       "  u'admin2': u'Makoni',\n",
       "  u'admin3': u'Makoni RDC',\n",
       "  u'ally_actor_1': u'',\n",
       "  u'ally_actor_2': u'',\n",
       "  u'country': u'Zimbabwe',\n",
       "  u'data_id': u'83604',\n",
       "  u'event_date': u'2016-07-01',\n",
       "  u'event_id_cnty': u'8192RTA',\n",
       "  u'event_id_no_cnty': u'',\n",
       "  u'event_type': u'Riots/Protests',\n",
       "  u'fatalities': u'0',\n",
       "  u'geo_precision': u'1',\n",
       "  u'gwno': u'552',\n",
       "  u'inter1': u'5',\n",
       "  u'inter2': u'0',\n",
       "  u'interaction': u'50',\n",
       "  u'latitude': u'-18.7333',\n",
       "  u'location': u'Rusape',\n",
       "  u'longitude': u'32.0333',\n",
       "  u'notes': u'In Rusape, angry residents barricaded roads with huge stones and logs protesting over dusty red soils being used by the local authority to refill retarded earth roads.',\n",
       "  u'source': u'Manica Post',\n",
       "  u'time_precision': u'1',\n",
       "  u'year': u'2016'},\n",
       " {u'actor1': u'Rioters (Zimbabwe)',\n",
       "  u'actor2': u'',\n",
       "  u'admin1': u'Matabeleland South',\n",
       "  u'admin2': u'Beitbridge',\n",
       "  u'admin3': u'Beitbridge Town Council',\n",
       "  u'ally_actor_1': u'',\n",
       "  u'ally_actor_2': u'',\n",
       "  u'country': u'Zimbabwe',\n",
       "  u'data_id': u'83603',\n",
       "  u'event_date': u'2016-07-01',\n",
       "  u'event_id_cnty': u'8191RTA',\n",
       "  u'event_id_no_cnty': u'',\n",
       "  u'event_type': u'Riots/Protests',\n",
       "  u'fatalities': u'0',\n",
       "  u'geo_precision': u'1',\n",
       "  u'gwno': u'552',\n",
       "  u'inter1': u'5',\n",
       "  u'inter2': u'0',\n",
       "  u'interaction': u'50',\n",
       "  u'latitude': u'-22.2167',\n",
       "  u'location': u'Beitbridge',\n",
       "  u'longitude': u'29.9833',\n",
       "  u'notes': u\"Zimbabwe's army was deployed in the restive border town of Beitbridge where protesters angry about a new ban on imports set on fire a warehouse belonging to the state revenue authority.\",\n",
       "  u'source': u'News24',\n",
       "  u'time_precision': u'1',\n",
       "  u'year': u'2016'}]"
      ]
     },
     "execution_count": 23,
     "metadata": {},
     "output_type": "execute_result"
    }
   ],
   "source": [
    "data_set[:10]"
   ]
  },
  {
   "cell_type": "code",
   "execution_count": 234,
   "metadata": {
    "collapsed": true
   },
   "outputs": [],
   "source": [
    "df = pd.DataFrame(data_set)"
   ]
  },
  {
   "cell_type": "code",
   "execution_count": 25,
   "metadata": {
    "collapsed": false
   },
   "outputs": [
    {
     "data": {
      "text/html": [
       "<div>\n",
       "<table border=\"1\" class=\"dataframe\">\n",
       "  <thead>\n",
       "    <tr style=\"text-align: right;\">\n",
       "      <th></th>\n",
       "      <th>actor1</th>\n",
       "      <th>actor2</th>\n",
       "      <th>admin1</th>\n",
       "      <th>admin2</th>\n",
       "      <th>admin3</th>\n",
       "      <th>ally_actor_1</th>\n",
       "      <th>ally_actor_2</th>\n",
       "      <th>country</th>\n",
       "      <th>data_id</th>\n",
       "      <th>event_date</th>\n",
       "      <th>...</th>\n",
       "      <th>inter1</th>\n",
       "      <th>inter2</th>\n",
       "      <th>interaction</th>\n",
       "      <th>latitude</th>\n",
       "      <th>location</th>\n",
       "      <th>longitude</th>\n",
       "      <th>notes</th>\n",
       "      <th>source</th>\n",
       "      <th>time_precision</th>\n",
       "      <th>year</th>\n",
       "    </tr>\n",
       "  </thead>\n",
       "  <tbody>\n",
       "    <tr>\n",
       "      <th>0</th>\n",
       "      <td>Protesters (Zambia)</td>\n",
       "      <td></td>\n",
       "      <td>Lusaka</td>\n",
       "      <td>Lusaka</td>\n",
       "      <td></td>\n",
       "      <td></td>\n",
       "      <td></td>\n",
       "      <td>Zambia</td>\n",
       "      <td>83522</td>\n",
       "      <td>2016-07-02</td>\n",
       "      <td>...</td>\n",
       "      <td>6</td>\n",
       "      <td>0</td>\n",
       "      <td>60</td>\n",
       "      <td>-15.4166</td>\n",
       "      <td>Lusaka</td>\n",
       "      <td>28.2833</td>\n",
       "      <td>University of Zambia workers go on strike over...</td>\n",
       "      <td>Zambian Watchdog</td>\n",
       "      <td>1</td>\n",
       "      <td>2016</td>\n",
       "    </tr>\n",
       "    <tr>\n",
       "      <th>1</th>\n",
       "      <td>Al Shabaab</td>\n",
       "      <td>Civilians (Somalia)</td>\n",
       "      <td>Bay</td>\n",
       "      <td>Baydhabo</td>\n",
       "      <td></td>\n",
       "      <td></td>\n",
       "      <td></td>\n",
       "      <td>Somalia</td>\n",
       "      <td>80863</td>\n",
       "      <td>2016-07-02</td>\n",
       "      <td>...</td>\n",
       "      <td>2</td>\n",
       "      <td>7</td>\n",
       "      <td>27</td>\n",
       "      <td>3.11718</td>\n",
       "      <td>Baidoa</td>\n",
       "      <td>43.6469</td>\n",
       "      <td>Two people were killed and 18 were wounded dur...</td>\n",
       "      <td>Agence France Presse</td>\n",
       "      <td>1</td>\n",
       "      <td>2016</td>\n",
       "    </tr>\n",
       "    <tr>\n",
       "      <th>2</th>\n",
       "      <td>Military Forces of Libya (2016-) Presidential ...</td>\n",
       "      <td>Islamic State (Tripoli)</td>\n",
       "      <td>Surt</td>\n",
       "      <td>Surt</td>\n",
       "      <td></td>\n",
       "      <td>Misratah Communal Militia (Libya)</td>\n",
       "      <td></td>\n",
       "      <td>Libya</td>\n",
       "      <td>78468</td>\n",
       "      <td>2016-07-02</td>\n",
       "      <td>...</td>\n",
       "      <td>1</td>\n",
       "      <td>2</td>\n",
       "      <td>12</td>\n",
       "      <td>31.2089</td>\n",
       "      <td>Sirte</td>\n",
       "      <td>16.5887</td>\n",
       "      <td>In the past 24 hours, the air force launched n...</td>\n",
       "      <td>Xinhua General News Service</td>\n",
       "      <td>2</td>\n",
       "      <td>2016</td>\n",
       "    </tr>\n",
       "    <tr>\n",
       "      <th>3</th>\n",
       "      <td>Military Forces of Libya (2016-) Presidential ...</td>\n",
       "      <td>Islamic State (Tripoli)</td>\n",
       "      <td>Surt</td>\n",
       "      <td>Surt</td>\n",
       "      <td></td>\n",
       "      <td>Misratah Communal Militia (Libya)</td>\n",
       "      <td></td>\n",
       "      <td>Libya</td>\n",
       "      <td>78467</td>\n",
       "      <td>2016-07-02</td>\n",
       "      <td>...</td>\n",
       "      <td>1</td>\n",
       "      <td>2</td>\n",
       "      <td>12</td>\n",
       "      <td>31.2089</td>\n",
       "      <td>Sirte</td>\n",
       "      <td>16.5887</td>\n",
       "      <td>Three Libyan government troops were killed on ...</td>\n",
       "      <td>Xinhua General News Service</td>\n",
       "      <td>1</td>\n",
       "      <td>2016</td>\n",
       "    </tr>\n",
       "    <tr>\n",
       "      <th>4</th>\n",
       "      <td>Protesters (Ethiopia)</td>\n",
       "      <td></td>\n",
       "      <td>Oromia</td>\n",
       "      <td>Horo Guduru</td>\n",
       "      <td>Amuru</td>\n",
       "      <td>Oromo Ethnic Group (Ethiopia)</td>\n",
       "      <td></td>\n",
       "      <td>Ethiopia</td>\n",
       "      <td>77695</td>\n",
       "      <td>2016-07-02</td>\n",
       "      <td>...</td>\n",
       "      <td>6</td>\n",
       "      <td>0</td>\n",
       "      <td>60</td>\n",
       "      <td>9.98333</td>\n",
       "      <td>Amuru</td>\n",
       "      <td>36.9667</td>\n",
       "      <td>People protested against the government agenda...</td>\n",
       "      <td>Oromiya Media Network</td>\n",
       "      <td>1</td>\n",
       "      <td>2016</td>\n",
       "    </tr>\n",
       "  </tbody>\n",
       "</table>\n",
       "<p>5 rows × 26 columns</p>\n",
       "</div>"
      ],
      "text/plain": [
       "                                              actor1                   actor2  \\\n",
       "0                                Protesters (Zambia)                            \n",
       "1                                         Al Shabaab      Civilians (Somalia)   \n",
       "2  Military Forces of Libya (2016-) Presidential ...  Islamic State (Tripoli)   \n",
       "3  Military Forces of Libya (2016-) Presidential ...  Islamic State (Tripoli)   \n",
       "4                              Protesters (Ethiopia)                            \n",
       "\n",
       "   admin1       admin2 admin3                       ally_actor_1 ally_actor_2  \\\n",
       "0  Lusaka       Lusaka                                                          \n",
       "1     Bay     Baydhabo                                                          \n",
       "2    Surt         Surt         Misratah Communal Militia (Libya)                \n",
       "3    Surt         Surt         Misratah Communal Militia (Libya)                \n",
       "4  Oromia  Horo Guduru  Amuru      Oromo Ethnic Group (Ethiopia)                \n",
       "\n",
       "    country data_id  event_date  ...  inter1 inter2 interaction  latitude  \\\n",
       "0    Zambia   83522  2016-07-02  ...       6      0          60  -15.4166   \n",
       "1   Somalia   80863  2016-07-02  ...       2      7          27   3.11718   \n",
       "2     Libya   78468  2016-07-02  ...       1      2          12   31.2089   \n",
       "3     Libya   78467  2016-07-02  ...       1      2          12   31.2089   \n",
       "4  Ethiopia   77695  2016-07-02  ...       6      0          60   9.98333   \n",
       "\n",
       "  location longitude                                              notes  \\\n",
       "0   Lusaka   28.2833  University of Zambia workers go on strike over...   \n",
       "1   Baidoa   43.6469  Two people were killed and 18 were wounded dur...   \n",
       "2    Sirte   16.5887  In the past 24 hours, the air force launched n...   \n",
       "3    Sirte   16.5887  Three Libyan government troops were killed on ...   \n",
       "4    Amuru   36.9667  People protested against the government agenda...   \n",
       "\n",
       "                        source time_precision  year  \n",
       "0             Zambian Watchdog              1  2016  \n",
       "1        Agence France Presse               1  2016  \n",
       "2  Xinhua General News Service              2  2016  \n",
       "3  Xinhua General News Service              1  2016  \n",
       "4        Oromiya Media Network              1  2016  \n",
       "\n",
       "[5 rows x 26 columns]"
      ]
     },
     "execution_count": 25,
     "metadata": {},
     "output_type": "execute_result"
    }
   ],
   "source": [
    "df.head()"
   ]
  },
  {
   "cell_type": "code",
   "execution_count": 26,
   "metadata": {
    "collapsed": false
   },
   "outputs": [
    {
     "data": {
      "text/plain": [
       "Index([u'actor1', u'actor2', u'admin1', u'admin2', u'admin3', u'ally_actor_1',\n",
       "       u'ally_actor_2', u'country', u'data_id', u'event_date',\n",
       "       u'event_id_cnty', u'event_id_no_cnty', u'event_type', u'fatalities',\n",
       "       u'geo_precision', u'gwno', u'inter1', u'inter2', u'interaction',\n",
       "       u'latitude', u'location', u'longitude', u'notes', u'source',\n",
       "       u'time_precision', u'year'],\n",
       "      dtype='object')"
      ]
     },
     "execution_count": 26,
     "metadata": {},
     "output_type": "execute_result"
    }
   ],
   "source": [
    "df.columns"
   ]
  },
  {
   "cell_type": "code",
   "execution_count": 69,
   "metadata": {
    "collapsed": true
   },
   "outputs": [],
   "source": [
    "features = ['country', 'fatalities', 'event_date']"
   ]
  },
  {
   "cell_type": "code",
   "execution_count": 70,
   "metadata": {
    "collapsed": false
   },
   "outputs": [],
   "source": [
    "fat_df = df[features]"
   ]
  },
  {
   "cell_type": "code",
   "execution_count": 71,
   "metadata": {
    "collapsed": false
   },
   "outputs": [
    {
     "data": {
      "text/html": [
       "<div>\n",
       "<table border=\"1\" class=\"dataframe\">\n",
       "  <thead>\n",
       "    <tr style=\"text-align: right;\">\n",
       "      <th></th>\n",
       "      <th>country</th>\n",
       "      <th>fatalities</th>\n",
       "      <th>event_date</th>\n",
       "    </tr>\n",
       "  </thead>\n",
       "  <tbody>\n",
       "    <tr>\n",
       "      <th>0</th>\n",
       "      <td>Zambia</td>\n",
       "      <td>0</td>\n",
       "      <td>2016-07-02</td>\n",
       "    </tr>\n",
       "    <tr>\n",
       "      <th>1</th>\n",
       "      <td>Somalia</td>\n",
       "      <td>2</td>\n",
       "      <td>2016-07-02</td>\n",
       "    </tr>\n",
       "    <tr>\n",
       "      <th>2</th>\n",
       "      <td>Libya</td>\n",
       "      <td>0</td>\n",
       "      <td>2016-07-02</td>\n",
       "    </tr>\n",
       "    <tr>\n",
       "      <th>3</th>\n",
       "      <td>Libya</td>\n",
       "      <td>3</td>\n",
       "      <td>2016-07-02</td>\n",
       "    </tr>\n",
       "    <tr>\n",
       "      <th>4</th>\n",
       "      <td>Ethiopia</td>\n",
       "      <td>0</td>\n",
       "      <td>2016-07-02</td>\n",
       "    </tr>\n",
       "  </tbody>\n",
       "</table>\n",
       "</div>"
      ],
      "text/plain": [
       "    country fatalities  event_date\n",
       "0    Zambia          0  2016-07-02\n",
       "1   Somalia          2  2016-07-02\n",
       "2     Libya          0  2016-07-02\n",
       "3     Libya          3  2016-07-02\n",
       "4  Ethiopia          0  2016-07-02"
      ]
     },
     "execution_count": 71,
     "metadata": {},
     "output_type": "execute_result"
    }
   ],
   "source": [
    "fat_df.head()"
   ]
  },
  {
   "cell_type": "code",
   "execution_count": 100,
   "metadata": {
    "collapsed": false
   },
   "outputs": [],
   "source": [
    "fat_df['event_date'] = pd.to_datetime(fat_df['event_date'])"
   ]
  },
  {
   "cell_type": "code",
   "execution_count": 114,
   "metadata": {
    "collapsed": false
   },
   "outputs": [
    {
     "data": {
      "text/html": [
       "<div>\n",
       "<table border=\"1\" class=\"dataframe\">\n",
       "  <thead>\n",
       "    <tr style=\"text-align: right;\">\n",
       "      <th></th>\n",
       "      <th>country</th>\n",
       "      <th>fatalities</th>\n",
       "      <th>event_date</th>\n",
       "    </tr>\n",
       "  </thead>\n",
       "  <tbody>\n",
       "    <tr>\n",
       "      <th>0</th>\n",
       "      <td>Zambia</td>\n",
       "      <td>0</td>\n",
       "      <td>2016-07-02</td>\n",
       "    </tr>\n",
       "    <tr>\n",
       "      <th>1</th>\n",
       "      <td>Somalia</td>\n",
       "      <td>2</td>\n",
       "      <td>2016-07-02</td>\n",
       "    </tr>\n",
       "    <tr>\n",
       "      <th>2</th>\n",
       "      <td>Libya</td>\n",
       "      <td>0</td>\n",
       "      <td>2016-07-02</td>\n",
       "    </tr>\n",
       "    <tr>\n",
       "      <th>3</th>\n",
       "      <td>Libya</td>\n",
       "      <td>3</td>\n",
       "      <td>2016-07-02</td>\n",
       "    </tr>\n",
       "    <tr>\n",
       "      <th>4</th>\n",
       "      <td>Ethiopia</td>\n",
       "      <td>0</td>\n",
       "      <td>2016-07-02</td>\n",
       "    </tr>\n",
       "  </tbody>\n",
       "</table>\n",
       "</div>"
      ],
      "text/plain": [
       "    country fatalities event_date\n",
       "0    Zambia          0 2016-07-02\n",
       "1   Somalia          2 2016-07-02\n",
       "2     Libya          0 2016-07-02\n",
       "3     Libya          3 2016-07-02\n",
       "4  Ethiopia          0 2016-07-02"
      ]
     },
     "execution_count": 114,
     "metadata": {},
     "output_type": "execute_result"
    }
   ],
   "source": [
    "fat_df.head()"
   ]
  },
  {
   "cell_type": "code",
   "execution_count": 117,
   "metadata": {
    "collapsed": false
   },
   "outputs": [],
   "source": [
    "fat_df.index = fat_df['event_date']\n",
    "\n",
    "del fat_df['event_date']"
   ]
  },
  {
   "cell_type": "code",
   "execution_count": 247,
   "metadata": {
    "collapsed": false
   },
   "outputs": [],
   "source": [
    "fat_df['fatalities'] = fat_df['fatalities'].apply(pd.to_numeric)"
   ]
  },
  {
   "cell_type": "code",
   "execution_count": 160,
   "metadata": {
    "collapsed": false
   },
   "outputs": [],
   "source": [
    "country_df = fat_df.groupby(fat_df['country']).resample('D').sum()"
   ]
  },
  {
   "cell_type": "code",
   "execution_count": null,
   "metadata": {
    "collapsed": false
   },
   "outputs": [],
   "source": []
  },
  {
   "cell_type": "code",
   "execution_count": 214,
   "metadata": {
    "collapsed": false
   },
   "outputs": [
    {
     "data": {
      "text/plain": [
       "<matplotlib.legend.Legend at 0x1456b2790>"
      ]
     },
     "execution_count": 214,
     "metadata": {},
     "output_type": "execute_result"
    },
    {
     "data": {
      "image/png": "[encoded data removed]",
      "text/plain": [
       "<matplotlib.figure.Figure at 0x1456747d0>"
      ]
     },
     "metadata": {},
     "output_type": "display_data"
    }
   ],
   "source": [
    "country_df[country_df['fatalities']>10].unstack(level=0).plot.bar(figsize=(20,6))\n",
    "plt.legend(loc='center left', bbox_to_anchor=(1, 0.5))"
   ]
  },
  {
   "cell_type": "markdown",
   "metadata": {},
   "source": [
    "# Deaths Caused by Political Violence Over Time"
   ]
  },
  {
   "cell_type": "code",
   "execution_count": 219,
   "metadata": {
    "collapsed": false
   },
   "outputs": [
    {
     "data": {
      "text/plain": [
       "<matplotlib.axes._subplots.AxesSubplot at 0x147226e50>"
      ]
     },
     "execution_count": 219,
     "metadata": {},
     "output_type": "execute_result"
    },
    {
     "data": {
      "image/png": "[encoded data removed]",
      "text/plain": [
       "<matplotlib.figure.Figure at 0x147212d10>"
      ]
     },
     "metadata": {},
     "output_type": "display_data"
    }
   ],
   "source": [
    "fat_df.resample('D').sum().plot()"
   ]
  },
  {
   "cell_type": "code",
   "execution_count": 239,
   "metadata": {
    "collapsed": false
   },
   "outputs": [],
   "source": [
    "df_inter_fat = df[['inter1', 'fatalities']]"
   ]
  },
  {
   "cell_type": "code",
   "execution_count": 250,
   "metadata": {
    "collapsed": false
   },
   "outputs": [
    {
     "name": "stderr",
     "output_type": "stream",
     "text": [
      "/Users/aschharwood/anaconda2/lib/python2.7/site-packages/ipykernel/__main__.py:1: SettingWithCopyWarning: \n",
      "A value is trying to be set on a copy of a slice from a DataFrame.\n",
      "Try using .loc[row_indexer,col_indexer] = value instead\n",
      "\n",
      "See the caveats in the documentation: http://pandas.pydata.org/pandas-docs/stable/indexing.html#indexing-view-versus-copy\n",
      "  if __name__ == '__main__':\n"
     ]
    }
   ],
   "source": [
    "df_inter_fat['fatalities'] = pd.to_numeric(df_inter_fat['fatalities'])"
   ]
  },
  {
   "cell_type": "code",
   "execution_count": 251,
   "metadata": {
    "collapsed": false
   },
   "outputs": [
    {
     "data": {
      "text/plain": [
       "0"
      ]
     },
     "execution_count": 251,
     "metadata": {},
     "output_type": "execute_result"
    }
   ],
   "source": [
    "df_inter_fat['fatalities'][0]"
   ]
  },
  {
   "cell_type": "code",
   "execution_count": null,
   "metadata": {
    "collapsed": true
   },
   "outputs": [],
   "source": []
  }
 ],
 "metadata": {
  "kernelspec": {
   "display_name": "Python 2",
   "language": "python",
   "name": "python2"
  },
  "language_info": {
   "codemirror_mode": {
    "name": "ipython",
    "version": 2
   },
   "file_extension": ".py",
   "mimetype": "text/x-python",
   "name": "python",
   "nbconvert_exporter": "python",
   "pygments_lexer": "ipython2",
   "version": "2.7.11"
  }
 },
 "nbformat": 4,
 "nbformat_minor": 0
}
