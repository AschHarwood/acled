{
 "cells": [
  {
   "cell_type": "code",
   "execution_count": 1,
   "metadata": {
    "collapsed": true
   },
   "outputs": [],
   "source": [
    "import pandas as pd\n",
    "import requests\n",
    "import matplotlib.pyplot as plt\n",
    "import sqlite3 as lite\n",
    "import sqlalchemy\n",
    "%matplotlib inline"
   ]
  },
  {
   "cell_type": "code",
   "execution_count": 2,
   "metadata": {
    "collapsed": true
   },
   "outputs": [],
   "source": [
    "r = requests.get('http://acleddata.com/api/acled/read')"
   ]
  },
  {
   "cell_type": "code",
   "execution_count": 3,
   "metadata": {
    "collapsed": true
   },
   "outputs": [],
   "source": [
    "data = r.json()\n",
    "data_set = data['data']"
   ]
  },
  {
   "cell_type": "code",
   "execution_count": 4,
   "metadata": {
    "collapsed": true
   },
   "outputs": [],
   "source": [
    "df = pd.DataFrame(data_set)"
   ]
  },
  {
   "cell_type": "code",
   "execution_count": 26,
   "metadata": {
    "collapsed": false
   },
   "outputs": [],
   "source": [
    "con = lite.connect('acled6.db')\n",
    "cur = con.cursor()\n"
   ]
  },
  {
   "cell_type": "code",
   "execution_count": 34,
   "metadata": {
    "collapsed": false
   },
   "outputs": [],
   "source": [
    "sql_string = \"CREATE TABLE acled(index INTEGER,actor1 TEXT,actor2 TEXT,admin1 TEXT,admin2 TEXT,admin3 TEXT,ally_actor_1 TEXT,ally_actor_2 TEXT,country TEXT,data_id INTEGER PRIMARY KEY NOT NULL,event_date TEXT,event_id_cnty TEXT,event_id_no_cnty REAL,event_type TEXT,fatalities INTEGER,geo_precision INTEGER,gwno INTEGER,inter1 INTEGER,inter2 INTEGER,interaction INTEGER,latitude REAL,location TEXT,longitude REAL,notes TEXT,source TEXT,time_precision INTEGER,year INTEGER)\""
   ]
  },
  {
   "cell_type": "code",
   "execution_count": 37,
   "metadata": {
    "collapsed": false
   },
   "outputs": [
    {
     "data": {
      "text/plain": [
       "<sqlite3.Cursor at 0x11562b960>"
      ]
     },
     "execution_count": 37,
     "metadata": {},
     "output_type": "execute_result"
    }
   ],
   "source": [
    "cur.execute(\"CREATE TABLE acled (actor1 TEXT,actor2 TEXT,admin1 TEXT,admin2 TEXT,admin3 TEXT,ally_actor_1 TEXT,ally_actor_2 TEXT,country TEXT,data_id INTEGER PRIMARY KEY NOT NULL,event_date TEXT,event_id_cnty TEXT,event_id_no_cnty REAL,event_type TEXT,fatalities INTEGER,geo_precision INTEGER,gwno INTEGER,inter1 INTEGER,inter2 INTEGER,interaction INTEGER,latitude REAL,location TEXT,longitude REAL,notes TEXT,source TEXT,time_precision INTEGER,year INTEGER)\")"
   ]
  },
  {
   "cell_type": "code",
   "execution_count": 38,
   "metadata": {
    "collapsed": true
   },
   "outputs": [],
   "source": [
    "df.to_sql('acled', con, if_exists='append', index=False)"
   ]
  },
  {
   "cell_type": "code",
   "execution_count": null,
   "metadata": {
    "collapsed": true
   },
   "outputs": [],
   "source": [
    "cur.execute('PRAGMA TABLE_INFO({})'.format('acled'))\n",
    "\n",
    "# collect names in a list\n",
    "names = [tup[1] for tup in cur.fetchall()]\n",
    "print(names)\n",
    "# e.g., ['id', 'date', 'time', 'date_time']\n",
    "\n",
    "# Closing the connection to the database file\n",
    "con.close()"
   ]
  }
 ],
 "metadata": {
  "kernelspec": {
   "display_name": "Python 2",
   "language": "python",
   "name": "python2"
  },
  "language_info": {
   "codemirror_mode": {
    "name": "ipython",
    "version": 2
   },
   "file_extension": ".py",
   "mimetype": "text/x-python",
   "name": "python",
   "nbconvert_exporter": "python",
   "pygments_lexer": "ipython2",
   "version": "2.7.11"
  }
 },
 "nbformat": 4,
 "nbformat_minor": 0
}
