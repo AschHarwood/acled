{
 "cells": [
  {
   "cell_type": "markdown",
   "metadata": {},
   "source": [
    "1. Create a list of existing records\n",
    "2. compare each new record to the list\n",
    "3. save the new record\n",
    "4. Add new record id to the list"
   ]
  },
  {
   "cell_type": "code",
   "execution_count": 1,
   "metadata": {
    "collapsed": true
   },
   "outputs": [],
   "source": [
    "import pandas as pd\n",
    "import requests"
   ]
  },
  {
   "cell_type": "code",
   "execution_count": 19,
   "metadata": {
    "collapsed": true
   },
   "outputs": [],
   "source": [
    "r = requests.get(\"http://acleddata.com/api/acled/read\")\n",
    "data = r.json()"
   ]
  },
  {
   "cell_type": "code",
   "execution_count": 20,
   "metadata": {
    "collapsed": true
   },
   "outputs": [],
   "source": [
    "data = data['data']"
   ]
  },
  {
   "cell_type": "code",
   "execution_count": 21,
   "metadata": {
    "collapsed": false
   },
   "outputs": [
    {
     "data": {
      "text/plain": [
       "[u'event_type',\n",
       " u'fatalities',\n",
       " u'year',\n",
       " u'geo_precision',\n",
       " u'admin1',\n",
       " u'source',\n",
       " u'admin3',\n",
       " u'admin2',\n",
       " u'location',\n",
       " u'latitude',\n",
       " u'event_date',\n",
       " u'event_id_cnty',\n",
       " u'inter1',\n",
       " u'inter2',\n",
       " u'event_id_no_cnty',\n",
       " u'gwno',\n",
       " u'ally_actor_1',\n",
       " u'ally_actor_2',\n",
       " u'time_precision',\n",
       " u'interaction',\n",
       " u'data_id',\n",
       " u'country',\n",
       " u'notes',\n",
       " u'longitude',\n",
       " u'actor2',\n",
       " u'actor1']"
      ]
     },
     "execution_count": 21,
     "metadata": {},
     "output_type": "execute_result"
    }
   ],
   "source": [
    "data[0].keys()"
   ]
  },
  {
   "cell_type": "code",
   "execution_count": 22,
   "metadata": {
    "collapsed": false
   },
   "outputs": [
    {
     "data": {
      "text/plain": [
       "[{u'actor1': u'Military Forces of Somalia (2012-)',\n",
       "  u'actor2': u'Al Shabaab',\n",
       "  u'admin1': u'Gedo',\n",
       "  u'admin2': u'Ceel Waaq',\n",
       "  u'admin3': u'',\n",
       "  u'ally_actor_1': u'AMISOM: African Union Mission in Somalia (2007-) (Ethiopia)',\n",
       "  u'ally_actor_2': u'',\n",
       "  u'country': u'Somalia',\n",
       "  u'data_id': u'189340',\n",
       "  u'event_date': u'2016-09-17',\n",
       "  u'event_id_cnty': u'11504RTA',\n",
       "  u'event_id_no_cnty': u'',\n",
       "  u'event_type': u'Non-violent transfer of territory',\n",
       "  u'fatalities': u'0',\n",
       "  u'geo_precision': u'1',\n",
       "  u'gwno': u'520',\n",
       "  u'inter1': u'1',\n",
       "  u'inter2': u'2',\n",
       "  u'interaction': u'12',\n",
       "  u'latitude': u'2.7333',\n",
       "  u'location': u'Ceel Waaq',\n",
       "  u'longitude': u'41.0166',\n",
       "  u'notes': u'Somali and AMISOM regain control of Ceel Waaq after al Shabaab flees. ',\n",
       "  u'source': u'Agence France Presse ',\n",
       "  u'time_precision': u'1',\n",
       "  u'year': u'2016'},\n",
       " {u'actor1': u'Protesters (South Africa)',\n",
       "  u'actor2': u'',\n",
       "  u'admin1': u'Western Cape',\n",
       "  u'admin2': u'Cape Winelands',\n",
       "  u'admin3': u'Stellenbosch',\n",
       "  u'ally_actor_1': u'Students (South Africa)',\n",
       "  u'ally_actor_2': u'',\n",
       "  u'country': u'South Africa',\n",
       "  u'data_id': u'190448',\n",
       "  u'event_date': u'2016-09-16',\n",
       "  u'event_id_cnty': u'11519RTA',\n",
       "  u'event_id_no_cnty': u'',\n",
       "  u'event_type': u'Riots/Protests',\n",
       "  u'fatalities': u'0',\n",
       "  u'geo_precision': u'1',\n",
       "  u'gwno': u'560',\n",
       "  u'inter1': u'6',\n",
       "  u'inter2': u'0',\n",
       "  u'interaction': u'60',\n",
       "  u'latitude': u'-33.9346',\n",
       "  u'location': u'Stellenbosch',\n",
       "  u'longitude': u'18.8668',\n",
       "  u'notes': u'Protest action by students took place in the library at the University of Stellenbosch.',\n",
       "  u'source': u'News24',\n",
       "  u'time_precision': u'1',\n",
       "  u'year': u'2016'},\n",
       " {u'actor1': u'Protesters (South Africa)',\n",
       "  u'actor2': u'',\n",
       "  u'admin1': u'Western Cape',\n",
       "  u'admin2': u'City of Cape Town',\n",
       "  u'admin3': u'City of Cape Town',\n",
       "  u'ally_actor_1': u'Students (South Africa)',\n",
       "  u'ally_actor_2': u'',\n",
       "  u'country': u'South Africa',\n",
       "  u'data_id': u'190447',\n",
       "  u'event_date': u'2016-09-16',\n",
       "  u'event_id_cnty': u'11518RTA',\n",
       "  u'event_id_no_cnty': u'',\n",
       "  u'event_type': u'Riots/Protests',\n",
       "  u'fatalities': u'0',\n",
       "  u'geo_precision': u'1',\n",
       "  u'gwno': u'560',\n",
       "  u'inter1': u'6',\n",
       "  u'inter2': u'0',\n",
       "  u'interaction': u'60',\n",
       "  u'latitude': u'-33.9633',\n",
       "  u'location': u'Rondebosch',\n",
       "  u'longitude': u'18.4764',\n",
       "  u'notes': u'The University of Cape Town has closed its libraries and 24/7 study area during ongoing protests by hundreds of student.',\n",
       "  u'source': u'News24',\n",
       "  u'time_precision': u'1',\n",
       "  u'year': u'2016'},\n",
       " {u'actor1': u'Military Forces of Somalia (2012-)',\n",
       "  u'actor2': u'Al Shabaab',\n",
       "  u'admin1': u'Gedo',\n",
       "  u'admin2': u'Ceel Waaq',\n",
       "  u'admin3': u'',\n",
       "  u'ally_actor_1': u'',\n",
       "  u'ally_actor_2': u'',\n",
       "  u'country': u'Somalia',\n",
       "  u'data_id': u'189339',\n",
       "  u'event_date': u'2016-09-16',\n",
       "  u'event_id_cnty': u'11503RTA',\n",
       "  u'event_id_no_cnty': u'',\n",
       "  u'event_type': u'Battle-Non-state actor overtakes territory',\n",
       "  u'fatalities': u'12',\n",
       "  u'geo_precision': u'1',\n",
       "  u'gwno': u'520',\n",
       "  u'inter1': u'1',\n",
       "  u'inter2': u'2',\n",
       "  u'interaction': u'12',\n",
       "  u'latitude': u'2.7333',\n",
       "  u'location': u'Ceel Waaq',\n",
       "  u'longitude': u'41.0166',\n",
       "  u'notes': u'Al Shabaab attacks Ceel Waaq, twelve dead in the ensuing clash. Al Shabaab gained control of town. ',\n",
       "  u'source': u'Agence France Presse ',\n",
       "  u'time_precision': u'1',\n",
       "  u'year': u'2016'},\n",
       " {u'actor1': u'Protesters (Nigeria)',\n",
       "  u'actor2': u'',\n",
       "  u'admin1': u'Ondo',\n",
       "  u'admin2': u'Akure South',\n",
       "  u'admin3': u'',\n",
       "  u'ally_actor_1': u'APC: All Progressives Congress',\n",
       "  u'ally_actor_2': u'',\n",
       "  u'country': u'Nigeria',\n",
       "  u'data_id': u'187380',\n",
       "  u'event_date': u'2016-09-16',\n",
       "  u'event_id_cnty': u'11416RTA',\n",
       "  u'event_id_no_cnty': u'',\n",
       "  u'event_type': u'Riots/Protests',\n",
       "  u'fatalities': u'0',\n",
       "  u'geo_precision': u'1',\n",
       "  u'gwno': u'475',\n",
       "  u'inter1': u'6',\n",
       "  u'inter2': u'0',\n",
       "  u'interaction': u'60',\n",
       "  u'latitude': u'7.25256',\n",
       "  u'location': u'Akure',\n",
       "  u'longitude': u'5.19312',\n",
       "  u'notes': u'APC youths protest over an alleged plan to tamper with a primary election result. Exact date of the protest not clear. ',\n",
       "  u'source': u'Daily Independent (Nigeria)',\n",
       "  u'time_precision': u'2',\n",
       "  u'year': u'2016'}]"
      ]
     },
     "execution_count": 22,
     "metadata": {},
     "output_type": "execute_result"
    }
   ],
   "source": [
    "data[:5]"
   ]
  },
  {
   "cell_type": "code",
   "execution_count": 9,
   "metadata": {
    "collapsed": false
   },
   "outputs": [],
   "source": [
    "data_id_list = []\n",
    "for entry in data:\n",
    "    data_id_list.append(entry['data_id'])"
   ]
  },
  {
   "cell_type": "code",
   "execution_count": 12,
   "metadata": {
    "collapsed": false
   },
   "outputs": [],
   "source": [
    "half_id_list = data_id_list[:250]"
   ]
  },
  {
   "cell_type": "code",
   "execution_count": 31,
   "metadata": {
    "collapsed": true
   },
   "outputs": [],
   "source": [
    "full_data = [] #creates our database\n",
    "for entry in data: #cycles through each dictionary in the data list\n",
    "    if entry['data_id'] not in half_id_list: #checks if data id is in the list\n",
    "        full_data.append(entry) #adds dict\n",
    "        half_id_list.append(entry['data_id'])\n",
    "    \n",
    "        \n",
    "        "
   ]
  },
  {
   "cell_type": "code",
   "execution_count": 33,
   "metadata": {
    "collapsed": false
   },
   "outputs": [
    {
     "data": {
      "text/plain": [
       "250"
      ]
     },
     "execution_count": 33,
     "metadata": {},
     "output_type": "execute_result"
    }
   ],
   "source": [
    "len(full_data)"
   ]
  },
  {
   "cell_type": "code",
   "execution_count": 34,
   "metadata": {
    "collapsed": false
   },
   "outputs": [
    {
     "data": {
      "text/plain": [
       "500"
      ]
     },
     "execution_count": 34,
     "metadata": {},
     "output_type": "execute_result"
    }
   ],
   "source": [
    "len(half_id_list)"
   ]
  },
  {
   "cell_type": "code",
   "execution_count": null,
   "metadata": {
    "collapsed": true
   },
   "outputs": [],
   "source": []
  }
 ],
 "metadata": {
  "kernelspec": {
   "display_name": "Python 2",
   "language": "python",
   "name": "python2"
  },
  "language_info": {
   "codemirror_mode": {
    "name": "ipython",
    "version": 2
   },
   "file_extension": ".py",
   "mimetype": "text/x-python",
   "name": "python",
   "nbconvert_exporter": "python",
   "pygments_lexer": "ipython2",
   "version": "2.7.10"
  }
 },
 "nbformat": 4,
 "nbformat_minor": 0
}
