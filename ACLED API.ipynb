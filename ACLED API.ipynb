{
 "cells": [
  {
   "cell_type": "markdown",
   "metadata": {},
   "source": [
    "Steps\n",
    "<ul>\n",
    "    <li>download data</li>\n",
    "    <li>store in database</li>\n",
    "    <li>create aggregated indicators</li>\n",
    "    <li>visualize</li>\n",
    "\n",
    "</ul>\n",
    "\n",
    "<ul>\n",
    "<ul>\n",
    "<li>pull down all historic data<li>\n",
    "<li>filter out unwanted countries</li>\n",
    "<li>save to an sql database</li>\n",
    "<li>update sql database</li>\n",
    "<li>update charts with new data</li>\n",
    "<li>create better interactive charts</li>\n",
    "<li>publish charts to internet</li>"
   ]
  },
  {
   "cell_type": "markdown",
   "metadata": {},
   "source": [
    "Indicators\n",
    "<ul>\n",
    "<li>deaths aggregated by month, by country -- line chart x=month, y=# deaths, colorline = country/location</li>"
   ]
  },
  {
   "cell_type": "code",
   "execution_count": 1,
   "metadata": {
    "collapsed": true
   },
   "outputs": [],
   "source": [
    "import pandas as pd\n",
    "import requests\n",
    "import matplotlib.pyplot as plt\n",
    "import sqlite3\n",
    "import sqlalchemy\n",
    "%matplotlib inline"
   ]
  },
  {
   "cell_type": "code",
   "execution_count": 2,
   "metadata": {
    "collapsed": true
   },
   "outputs": [],
   "source": [
    "r = requests.get('http://acleddata.com/api/acled/read')"
   ]
  },
  {
   "cell_type": "code",
   "execution_count": 3,
   "metadata": {
    "collapsed": true
   },
   "outputs": [],
   "source": [
    "data = r.json()"
   ]
  },
  {
   "cell_type": "code",
   "execution_count": 4,
   "metadata": {
    "collapsed": false
   },
   "outputs": [],
   "source": [
    "data_set = data['data']"
   ]
  },
  {
   "cell_type": "code",
   "execution_count": 5,
   "metadata": {
    "collapsed": false
   },
   "outputs": [
    {
     "data": {
      "text/plain": [
       "[{u'actor1': u'Protesters (Tunisia)',\n",
       "  u'actor2': u'',\n",
       "  u'admin1': u'Tataouine',\n",
       "  u'admin2': u'Tataouine Nord',\n",
       "  u'admin3': u'',\n",
       "  u'ally_actor_1': u'',\n",
       "  u'ally_actor_2': u'',\n",
       "  u'country': u'Tunisia',\n",
       "  u'data_id': u'181039',\n",
       "  u'event_date': u'2016-09-10',\n",
       "  u'event_id_cnty': u'11275RTA',\n",
       "  u'event_id_no_cnty': u'',\n",
       "  u'event_type': u'Riots/Protests',\n",
       "  u'fatalities': u'0',\n",
       "  u'geo_precision': u'1',\n",
       "  u'gwno': u'616',\n",
       "  u'inter1': u'6',\n",
       "  u'inter2': u'0',\n",
       "  u'interaction': u'60',\n",
       "  u'latitude': u'33.0625',\n",
       "  u'location': u'Oued El Ghar',\n",
       "  u'longitude': u'10.6739',\n",
       "  u'notes': u'Protests against pollution were reported in Tataouine province.',\n",
       "  u'source': u'Shems FM',\n",
       "  u'time_precision': u'1',\n",
       "  u'year': u'2016'},\n",
       " {u'actor1': u'Protesters (Gabon)',\n",
       "  u'actor2': u'',\n",
       "  u'admin1': u'Estuaire',\n",
       "  u'admin2': u'Komo-Mondah',\n",
       "  u'admin3': u'',\n",
       "  u'ally_actor_1': u'UFC: Union of Forces for Change',\n",
       "  u'ally_actor_2': u'',\n",
       "  u'country': u'Gabon',\n",
       "  u'data_id': u'173405',\n",
       "  u'event_date': u'2016-09-10',\n",
       "  u'event_id_cnty': u'11082RTA',\n",
       "  u'event_id_no_cnty': u'',\n",
       "  u'event_type': u'Riots/Protests',\n",
       "  u'fatalities': u'0',\n",
       "  u'geo_precision': u'1',\n",
       "  u'gwno': u'481',\n",
       "  u'inter1': u'6',\n",
       "  u'inter2': u'0',\n",
       "  u'interaction': u'60',\n",
       "  u'latitude': u'0.3901',\n",
       "  u'location': u'Libreville',\n",
       "  u'longitude': u'9.4544',\n",
       "  u'notes': u'A thousand supporters of opposition leader Jean Ping dressed in white marched Saturday in Libreville, in tribute to the victims of post-election violence that rocked Gabon after the presidential election of 27 August.',\n",
       "  u'source': u'Agence France Presse',\n",
       "  u'time_precision': u'1',\n",
       "  u'year': u'2016'},\n",
       " {u'actor1': u'Military Forces of Ethiopia (1991-)',\n",
       "  u'actor2': u'Civilians (Ethiopia)',\n",
       "  u'admin1': u'Oromia',\n",
       "  u'admin2': u'Mirab Arsi',\n",
       "  u'admin3': u'Kore',\n",
       "  u'ally_actor_1': u'',\n",
       "  u'ally_actor_2': u'Oromo Ethnic Group (Ethiopia)',\n",
       "  u'country': u'Ethiopia',\n",
       "  u'data_id': u'173379',\n",
       "  u'event_date': u'2016-09-10',\n",
       "  u'event_id_cnty': u'11074RTA',\n",
       "  u'event_id_no_cnty': u'',\n",
       "  u'event_type': u'Violence against civilians',\n",
       "  u'fatalities': u'2',\n",
       "  u'geo_precision': u'1',\n",
       "  u'gwno': u'530',\n",
       "  u'inter1': u'1',\n",
       "  u'inter2': u'7',\n",
       "  u'interaction': u'17',\n",
       "  u'latitude': u'7.21667',\n",
       "  u'location': u'Kore',\n",
       "  u'longitude': u'38.9167',\n",
       "  u'notes': u'Security forces allegedly killed two people and injured another six in Kore.',\n",
       "  u'source': u'Oromiya Media Network',\n",
       "  u'time_precision': u'1',\n",
       "  u'year': u'2016'},\n",
       " {u'actor1': u'Rioters (Ethiopia)',\n",
       "  u'actor2': u'',\n",
       "  u'admin1': u'Oromia',\n",
       "  u'admin2': u'Misraq Harerge',\n",
       "  u'admin3': u'Deder',\n",
       "  u'ally_actor_1': u'Oromo Ethnic Group (Ethiopia)',\n",
       "  u'ally_actor_2': u'',\n",
       "  u'country': u'Ethiopia',\n",
       "  u'data_id': u'173378',\n",
       "  u'event_date': u'2016-09-10',\n",
       "  u'event_id_cnty': u'11073RTA',\n",
       "  u'event_id_no_cnty': u'',\n",
       "  u'event_type': u'Riots/Protests',\n",
       "  u'fatalities': u'0',\n",
       "  u'geo_precision': u'1',\n",
       "  u'gwno': u'530',\n",
       "  u'inter1': u'5',\n",
       "  u'inter2': u'0',\n",
       "  u'interaction': u'50',\n",
       "  u'latitude': u'9.31168',\n",
       "  u'location': u'Deder',\n",
       "  u'longitude': u'41.443',\n",
       "  u'notes': u'Residents of Deder continued for the third day a stay-at-home boycott to protest against the government agenda, leaving the town and markets deserted. Reports of stoned bus by rioters as part of the protest.',\n",
       "  u'source': u'Oromiya Media Network',\n",
       "  u'time_precision': u'1',\n",
       "  u'year': u'2016'},\n",
       " {u'actor1': u'Protesters (Ethiopia)',\n",
       "  u'actor2': u'',\n",
       "  u'admin1': u'Oromia',\n",
       "  u'admin2': u'Mirab Hararghe',\n",
       "  u'admin3': u'Tulo',\n",
       "  u'ally_actor_1': u'Oromo Ethnic Group (Ethiopia)',\n",
       "  u'ally_actor_2': u'',\n",
       "  u'country': u'Ethiopia',\n",
       "  u'data_id': u'173377',\n",
       "  u'event_date': u'2016-09-10',\n",
       "  u'event_id_cnty': u'11072RTA',\n",
       "  u'event_id_no_cnty': u'',\n",
       "  u'event_type': u'Riots/Protests',\n",
       "  u'fatalities': u'0',\n",
       "  u'geo_precision': u'1',\n",
       "  u'gwno': u'530',\n",
       "  u'inter1': u'6',\n",
       "  u'inter2': u'0',\n",
       "  u'interaction': u'60',\n",
       "  u'latitude': u'9.21667',\n",
       "  u'location': u'Hirna',\n",
       "  u'longitude': u'41.1',\n",
       "  u'notes': u'Residents of Hirna went on a stay-at-home boycott to protest against the government agenda, leaving the town and markets deserted.',\n",
       "  u'source': u'Oromiya Media Network',\n",
       "  u'time_precision': u'1',\n",
       "  u'year': u'2016'},\n",
       " {u'actor1': u'Protesters (Ethiopia)',\n",
       "  u'actor2': u'',\n",
       "  u'admin1': u'Oromia',\n",
       "  u'admin2': u'Mirab Wellega',\n",
       "  u'admin3': u'Nejo',\n",
       "  u'ally_actor_1': u'Oromo Ethnic Group (Ethiopia)',\n",
       "  u'ally_actor_2': u'',\n",
       "  u'country': u'Ethiopia',\n",
       "  u'data_id': u'173376',\n",
       "  u'event_date': u'2016-09-10',\n",
       "  u'event_id_cnty': u'11071RTA',\n",
       "  u'event_id_no_cnty': u'',\n",
       "  u'event_type': u'Riots/Protests',\n",
       "  u'fatalities': u'0',\n",
       "  u'geo_precision': u'1',\n",
       "  u'gwno': u'530',\n",
       "  u'inter1': u'6',\n",
       "  u'inter2': u'0',\n",
       "  u'interaction': u'60',\n",
       "  u'latitude': u'9.61667',\n",
       "  u'location': u'Gori',\n",
       "  u'longitude': u'35.3167',\n",
       "  u'notes': u'Residents of Gori went on a stay-at-home boycott to protest against the government agenda, leaving the town and markets deserted.',\n",
       "  u'source': u'Oromiya Media Network',\n",
       "  u'time_precision': u'1',\n",
       "  u'year': u'2016'},\n",
       " {u'actor1': u'Protesters (Ethiopia)',\n",
       "  u'actor2': u'',\n",
       "  u'admin1': u'Oromia',\n",
       "  u'admin2': u'Mirab Shewa',\n",
       "  u'admin3': u'Dendi',\n",
       "  u'ally_actor_1': u'Oromo Ethnic Group (Ethiopia)',\n",
       "  u'ally_actor_2': u'',\n",
       "  u'country': u'Ethiopia',\n",
       "  u'data_id': u'173375',\n",
       "  u'event_date': u'2016-09-10',\n",
       "  u'event_id_cnty': u'11070RTA',\n",
       "  u'event_id_no_cnty': u'',\n",
       "  u'event_type': u'Riots/Protests',\n",
       "  u'fatalities': u'0',\n",
       "  u'geo_precision': u'1',\n",
       "  u'gwno': u'530',\n",
       "  u'inter1': u'6',\n",
       "  u'inter2': u'0',\n",
       "  u'interaction': u'60',\n",
       "  u'latitude': u'9.0333',\n",
       "  u'location': u'Ginchi',\n",
       "  u'longitude': u'38.15',\n",
       "  u'notes': u'Residents of Ginchi went on a stay-at-home boycott to protest against the government agenda, leaving the town and markets deserted.',\n",
       "  u'source': u'Oromiya Media Network',\n",
       "  u'time_precision': u'1',\n",
       "  u'year': u'2016'},\n",
       " {u'actor1': u'Protesters (Ethiopia)',\n",
       "  u'actor2': u'',\n",
       "  u'admin1': u'Oromia',\n",
       "  u'admin2': u'Mirab Arsi',\n",
       "  u'admin3': u'Gedeb Asasa',\n",
       "  u'ally_actor_1': u'Oromo Ethnic Group (Ethiopia)',\n",
       "  u'ally_actor_2': u'',\n",
       "  u'country': u'Ethiopia',\n",
       "  u'data_id': u'173374',\n",
       "  u'event_date': u'2016-09-10',\n",
       "  u'event_id_cnty': u'11069RTA',\n",
       "  u'event_id_no_cnty': u'',\n",
       "  u'event_type': u'Riots/Protests',\n",
       "  u'fatalities': u'0',\n",
       "  u'geo_precision': u'2',\n",
       "  u'gwno': u'530',\n",
       "  u'inter1': u'6',\n",
       "  u'inter2': u'0',\n",
       "  u'interaction': u'60',\n",
       "  u'latitude': u'7.1',\n",
       "  u'location': u'Asasa',\n",
       "  u'longitude': u'39.2',\n",
       "  u'notes': u'Residents of Nagelle Sigalo went on a stay-at-home boycott to protest against the government agenda, leaving the town and markets deserted.',\n",
       "  u'source': u'Oromiya Media Network',\n",
       "  u'time_precision': u'1',\n",
       "  u'year': u'2016'},\n",
       " {u'actor1': u'Police Forces of Egypt (2014-)',\n",
       "  u'actor2': u'Rioters (Egypt)',\n",
       "  u'admin1': u'Cairo',\n",
       "  u'admin2': u'Al Salam',\n",
       "  u'admin3': u'',\n",
       "  u'ally_actor_1': u'',\n",
       "  u'ally_actor_2': u'Prisoners (Egypt)',\n",
       "  u'country': u'Egypt',\n",
       "  u'data_id': u'172456',\n",
       "  u'event_date': u'2016-09-10',\n",
       "  u'event_id_cnty': u'10976RTA',\n",
       "  u'event_id_no_cnty': u'',\n",
       "  u'event_type': u'Riots/Protests',\n",
       "  u'fatalities': u'0',\n",
       "  u'geo_precision': u'1',\n",
       "  u'gwno': u'651',\n",
       "  u'inter1': u'1',\n",
       "  u'inter2': u'5',\n",
       "  u'interaction': u'15',\n",
       "  u'latitude': u'30.1704',\n",
       "  u'location': u'El-Salam',\n",
       "  u'longitude': u'31.412',\n",
       "  u'notes': u\"Dozens of prisoners who\\xa0are being held in detention in Al-Salam police station set their cell on fire early on Saturday in an attempt to escape. However, security forces hindered\\xa0the attempt. Clashes erupted between the detainees' families and security forces; the latter allegedly used tear gas to disperse the families.\",\n",
       "  u'source': u'Daily News Egypt',\n",
       "  u'time_precision': u'1',\n",
       "  u'year': u'2016'},\n",
       " {u'actor1': u'Rioters (Algeria)',\n",
       "  u'actor2': u'',\n",
       "  u'admin1': u'Ghardaia',\n",
       "  u'admin2': u'Daia Ben Dahoua',\n",
       "  u'admin3': u'',\n",
       "  u'ally_actor_1': u'',\n",
       "  u'ally_actor_2': u'',\n",
       "  u'country': u'Algeria',\n",
       "  u'data_id': u'170542',\n",
       "  u'event_date': u'2016-09-10',\n",
       "  u'event_id_cnty': u'10932RTA',\n",
       "  u'event_id_no_cnty': u'',\n",
       "  u'event_type': u'Riots/Protests',\n",
       "  u'fatalities': u'0',\n",
       "  u'geo_precision': u'1',\n",
       "  u'gwno': u'615',\n",
       "  u'inter1': u'5',\n",
       "  u'inter2': u'0',\n",
       "  u'interaction': u'50',\n",
       "  u'latitude': u'32.5384',\n",
       "  u'location': u'Daia Ben Dahoua',\n",
       "  u'longitude': u'3.61135',\n",
       "  u'notes': u'Protests against cuts to water supplies were reported in Daia Ben Dahoua, near Ghardaia. Water is reported to have been missing for twelve days. Residents burnt tyres and blocked vehicles.',\n",
       "  u'source': u'El Watan',\n",
       "  u'time_precision': u'1',\n",
       "  u'year': u'2016'}]"
      ]
     },
     "execution_count": 5,
     "metadata": {},
     "output_type": "execute_result"
    }
   ],
   "source": [
    "data_set[:10]"
   ]
  },
  {
   "cell_type": "code",
   "execution_count": 9,
   "metadata": {
    "collapsed": false
   },
   "outputs": [
    {
     "data": {
      "text/plain": [
       "u'Protesters (Gabon)'"
      ]
     },
     "execution_count": 9,
     "metadata": {},
     "output_type": "execute_result"
    }
   ],
   "source": [
    "data_set[:10][1]['actor1']"
   ]
  },
  {
   "cell_type": "code",
   "execution_count": 234,
   "metadata": {
    "collapsed": true
   },
   "outputs": [],
   "source": [
    "df = pd.DataFrame(data_set)"
   ]
  },
  {
   "cell_type": "code",
   "execution_count": 315,
   "metadata": {
    "collapsed": false
   },
   "outputs": [
    {
     "data": {
      "text/plain": [
       "Index([u'actor1', u'actor2', u'admin1', u'admin2', u'admin3', u'ally_actor_1',\n",
       "       u'ally_actor_2', u'country', u'data_id', u'event_date',\n",
       "       u'event_id_cnty', u'event_id_no_cnty', u'event_type', u'fatalities',\n",
       "       u'geo_precision', u'gwno', u'inter1', u'inter2', u'interaction',\n",
       "       u'latitude', u'location', u'longitude', u'notes', u'source',\n",
       "       u'time_precision', u'year'],\n",
       "      dtype='object')"
      ]
     },
     "execution_count": 315,
     "metadata": {},
     "output_type": "execute_result"
    }
   ],
   "source": [
    "df.columns"
   ]
  },
  {
   "cell_type": "code",
   "execution_count": null,
   "metadata": {
    "collapsed": false
   },
   "outputs": [],
   "source": [
    "\n"
   ]
  },
  {
   "cell_type": "code",
   "execution_count": null,
   "metadata": {
    "collapsed": false
   },
   "outputs": [],
   "source": []
  },
  {
   "cell_type": "code",
   "execution_count": 69,
   "metadata": {
    "collapsed": true
   },
   "outputs": [],
   "source": [
    "features = ['country', 'fatalities', 'event_date']"
   ]
  },
  {
   "cell_type": "code",
   "execution_count": 70,
   "metadata": {
    "collapsed": false
   },
   "outputs": [],
   "source": [
    "fat_df = df[features]"
   ]
  },
  {
   "cell_type": "code",
   "execution_count": 71,
   "metadata": {
    "collapsed": false
   },
   "outputs": [
    {
     "data": {
      "text/html": [
       "<div>\n",
       "<table border=\"1\" class=\"dataframe\">\n",
       "  <thead>\n",
       "    <tr style=\"text-align: right;\">\n",
       "      <th></th>\n",
       "      <th>country</th>\n",
       "      <th>fatalities</th>\n",
       "      <th>event_date</th>\n",
       "    </tr>\n",
       "  </thead>\n",
       "  <tbody>\n",
       "    <tr>\n",
       "      <th>0</th>\n",
       "      <td>Zambia</td>\n",
       "      <td>0</td>\n",
       "      <td>2016-07-02</td>\n",
       "    </tr>\n",
       "    <tr>\n",
       "      <th>1</th>\n",
       "      <td>Somalia</td>\n",
       "      <td>2</td>\n",
       "      <td>2016-07-02</td>\n",
       "    </tr>\n",
       "    <tr>\n",
       "      <th>2</th>\n",
       "      <td>Libya</td>\n",
       "      <td>0</td>\n",
       "      <td>2016-07-02</td>\n",
       "    </tr>\n",
       "    <tr>\n",
       "      <th>3</th>\n",
       "      <td>Libya</td>\n",
       "      <td>3</td>\n",
       "      <td>2016-07-02</td>\n",
       "    </tr>\n",
       "    <tr>\n",
       "      <th>4</th>\n",
       "      <td>Ethiopia</td>\n",
       "      <td>0</td>\n",
       "      <td>2016-07-02</td>\n",
       "    </tr>\n",
       "  </tbody>\n",
       "</table>\n",
       "</div>"
      ],
      "text/plain": [
       "    country fatalities  event_date\n",
       "0    Zambia          0  2016-07-02\n",
       "1   Somalia          2  2016-07-02\n",
       "2     Libya          0  2016-07-02\n",
       "3     Libya          3  2016-07-02\n",
       "4  Ethiopia          0  2016-07-02"
      ]
     },
     "execution_count": 71,
     "metadata": {},
     "output_type": "execute_result"
    }
   ],
   "source": [
    "fat_df.head()"
   ]
  },
  {
   "cell_type": "code",
   "execution_count": 100,
   "metadata": {
    "collapsed": false
   },
   "outputs": [],
   "source": [
    "fat_df['event_date'] = pd.to_datetime(fat_df['event_date'])"
   ]
  },
  {
   "cell_type": "code",
   "execution_count": 114,
   "metadata": {
    "collapsed": false
   },
   "outputs": [
    {
     "data": {
      "text/html": [
       "<div>\n",
       "<table border=\"1\" class=\"dataframe\">\n",
       "  <thead>\n",
       "    <tr style=\"text-align: right;\">\n",
       "      <th></th>\n",
       "      <th>country</th>\n",
       "      <th>fatalities</th>\n",
       "      <th>event_date</th>\n",
       "    </tr>\n",
       "  </thead>\n",
       "  <tbody>\n",
       "    <tr>\n",
       "      <th>0</th>\n",
       "      <td>Zambia</td>\n",
       "      <td>0</td>\n",
       "      <td>2016-07-02</td>\n",
       "    </tr>\n",
       "    <tr>\n",
       "      <th>1</th>\n",
       "      <td>Somalia</td>\n",
       "      <td>2</td>\n",
       "      <td>2016-07-02</td>\n",
       "    </tr>\n",
       "    <tr>\n",
       "      <th>2</th>\n",
       "      <td>Libya</td>\n",
       "      <td>0</td>\n",
       "      <td>2016-07-02</td>\n",
       "    </tr>\n",
       "    <tr>\n",
       "      <th>3</th>\n",
       "      <td>Libya</td>\n",
       "      <td>3</td>\n",
       "      <td>2016-07-02</td>\n",
       "    </tr>\n",
       "    <tr>\n",
       "      <th>4</th>\n",
       "      <td>Ethiopia</td>\n",
       "      <td>0</td>\n",
       "      <td>2016-07-02</td>\n",
       "    </tr>\n",
       "  </tbody>\n",
       "</table>\n",
       "</div>"
      ],
      "text/plain": [
       "    country fatalities event_date\n",
       "0    Zambia          0 2016-07-02\n",
       "1   Somalia          2 2016-07-02\n",
       "2     Libya          0 2016-07-02\n",
       "3     Libya          3 2016-07-02\n",
       "4  Ethiopia          0 2016-07-02"
      ]
     },
     "execution_count": 114,
     "metadata": {},
     "output_type": "execute_result"
    }
   ],
   "source": [
    "fat_df.head()"
   ]
  },
  {
   "cell_type": "code",
   "execution_count": 117,
   "metadata": {
    "collapsed": false
   },
   "outputs": [],
   "source": [
    "fat_df.index = fat_df['event_date']\n",
    "\n",
    "del fat_df['event_date']"
   ]
  },
  {
   "cell_type": "code",
   "execution_count": 247,
   "metadata": {
    "collapsed": false
   },
   "outputs": [],
   "source": [
    "fat_df['fatalities'] = fat_df['fatalities'].apply(pd.to_numeric)"
   ]
  },
  {
   "cell_type": "code",
   "execution_count": 160,
   "metadata": {
    "collapsed": false
   },
   "outputs": [],
   "source": [
    "country_df = fat_df.groupby(fat_df['country']).resample('D').sum()"
   ]
  },
  {
   "cell_type": "code",
   "execution_count": null,
   "metadata": {
    "collapsed": false
   },
   "outputs": [],
   "source": []
  },
  {
   "cell_type": "code",
   "execution_count": 214,
   "metadata": {
    "collapsed": false
   },
   "outputs": [
    {
     "data": {
      "text/plain": [
       "<matplotlib.legend.Legend at 0x1456b2790>"
      ]
     },
     "execution_count": 214,
     "metadata": {},
     "output_type": "execute_result"
    },
    {
     "data": {
      "image/png": "[encoded data removed]",
      "text/plain": [
       "<matplotlib.figure.Figure at 0x1456747d0>"
      ]
     },
     "metadata": {},
     "output_type": "display_data"
    }
   ],
   "source": [
    "country_df[country_df['fatalities']>10].unstack(level=0).plot.bar(figsize=(20,6))\n",
    "plt.legend(loc='center left', bbox_to_anchor=(1, 0.5))"
   ]
  },
  {
   "cell_type": "markdown",
   "metadata": {},
   "source": [
    "# Deaths Caused by Political Violence Over Time"
   ]
  },
  {
   "cell_type": "code",
   "execution_count": 219,
   "metadata": {
    "collapsed": false
   },
   "outputs": [
    {
     "data": {
      "text/plain": [
       "<matplotlib.axes._subplots.AxesSubplot at 0x147226e50>"
      ]
     },
     "execution_count": 219,
     "metadata": {},
     "output_type": "execute_result"
    },
    {
     "data": {
      "image/png": "[encoded data removed]",
      "text/plain": [
       "<matplotlib.figure.Figure at 0x147212d10>"
      ]
     },
     "metadata": {},
     "output_type": "display_data"
    }
   ],
   "source": [
    "fat_df.resample('D').sum().plot()"
   ]
  },
  {
   "cell_type": "code",
   "execution_count": 239,
   "metadata": {
    "collapsed": false
   },
   "outputs": [],
   "source": [
    "df_inter_fat = df[['inter1', 'fatalities']]"
   ]
  },
  {
   "cell_type": "code",
   "execution_count": 250,
   "metadata": {
    "collapsed": false
   },
   "outputs": [
    {
     "name": "stderr",
     "output_type": "stream",
     "text": [
      "/Users/aschharwood/anaconda2/lib/python2.7/site-packages/ipykernel/__main__.py:1: SettingWithCopyWarning: \n",
      "A value is trying to be set on a copy of a slice from a DataFrame.\n",
      "Try using .loc[row_indexer,col_indexer] = value instead\n",
      "\n",
      "See the caveats in the documentation: http://pandas.pydata.org/pandas-docs/stable/indexing.html#indexing-view-versus-copy\n",
      "  if __name__ == '__main__':\n"
     ]
    }
   ],
   "source": [
    "df_inter_fat['fatalities'] = pd.to_numeric(df_inter_fat['fatalities'])"
   ]
  },
  {
   "cell_type": "markdown",
   "metadata": {},
   "source": [
    "# Deaths Caused by Type of Participant"
   ]
  },
  {
   "cell_type": "code",
   "execution_count": 259,
   "metadata": {
    "collapsed": false
   },
   "outputs": [
    {
     "data": {
      "text/plain": [
       "<matplotlib.legend.Legend at 0x142536190>"
      ]
     },
     "execution_count": 259,
     "metadata": {},
     "output_type": "execute_result"
    },
    {
     "data": {
      "image/png": "[encoded data removed]",
      "text/plain": [
       "<matplotlib.figure.Figure at 0x141b93690>"
      ]
     },
     "metadata": {},
     "output_type": "display_data"
    }
   ],
   "source": [
    "df_inter_fat['fatalities'].groupby(df_inter_fat['inter1']).sum().plot.barh()\n",
    "plt.legend()"
   ]
  },
  {
   "cell_type": "code",
   "execution_count": 276,
   "metadata": {
    "collapsed": false
   },
   "outputs": [],
   "source": [
    "event_type_df = df['event_type'].groupby(df['event_type']).count()"
   ]
  },
  {
   "cell_type": "code",
   "execution_count": 278,
   "metadata": {
    "collapsed": false
   },
   "outputs": [
    {
     "data": {
      "text/plain": [
       "<matplotlib.axes._subplots.AxesSubplot at 0x147948150>"
      ]
     },
     "execution_count": 278,
     "metadata": {},
     "output_type": "execute_result"
    },
    {
     "data": {
      "image/png": "[encoded data removed]",
      "text/plain": [
       "<matplotlib.figure.Figure at 0x141bf9bd0>"
      ]
     },
     "metadata": {},
     "output_type": "display_data"
    }
   ],
   "source": [
    "event_type_df.plot.bar()"
   ]
  },
  {
   "cell_type": "code",
   "execution_count": null,
   "metadata": {
    "collapsed": false
   },
   "outputs": [],
   "source": []
  },
  {
   "cell_type": "code",
   "execution_count": null,
   "metadata": {
    "collapsed": false
   },
   "outputs": [],
   "source": []
  },
  {
   "cell_type": "code",
   "execution_count": null,
   "metadata": {
    "collapsed": false
   },
   "outputs": [],
   "source": []
  },
  {
   "cell_type": "code",
   "execution_count": null,
   "metadata": {
    "collapsed": false
   },
   "outputs": [],
   "source": []
  },
  {
   "cell_type": "code",
   "execution_count": 301,
   "metadata": {
    "collapsed": true
   },
   "outputs": [],
   "source": [
    "types = df.apply(lambda x: pd.lib.infer_dtype(x.values))"
   ]
  },
  {
   "cell_type": "code",
   "execution_count": 316,
   "metadata": {
    "collapsed": false
   },
   "outputs": [
    {
     "data": {
      "text/plain": [
       "<bound method DataFrame.info of                                                 actor1  \\\n",
       "0                                  Protesters (Zambia)   \n",
       "1                                           Al Shabaab   \n",
       "2    Military Forces of Libya (2016-) Presidential ...   \n",
       "3    Military Forces of Libya (2016-) Presidential ...   \n",
       "4                                Protesters (Ethiopia)   \n",
       "5                     Military Forces of Egypt (2014-)   \n",
       "6               Rioters (Democratic Republic of Congo)   \n",
       "7               Rioters (Democratic Republic of Congo)   \n",
       "8                                   Rioters (Zimbabwe)   \n",
       "9                                   Rioters (Zimbabwe)   \n",
       "10                     Police Forces of Zambia (2015-)   \n",
       "11                     Police Forces of Uganda (1986-)   \n",
       "12                                    Rioters (Uganda)   \n",
       "13                                Protesters (Tunisia)   \n",
       "14                           Protesters (South Africa)   \n",
       "15                           Protesters (South Africa)   \n",
       "16                           Protesters (South Africa)   \n",
       "17                           Protesters (South Africa)   \n",
       "18                           Protesters (South Africa)   \n",
       "19                           Protesters (South Africa)   \n",
       "20   AMISOM: African Union Mission in Somalia (2007...   \n",
       "21                  Unidentified Armed Group (Nigeria)   \n",
       "22                     Unidentified Armed Group (Mali)   \n",
       "23                    Military Forces of Libya (2014-)   \n",
       "24   Military Forces of Libya (2016-) Presidential ...   \n",
       "25     Military Forces of Libya (2014-) Special Forces   \n",
       "26                    Unidentified Armed Group (Kenya)   \n",
       "27                   Police Forces of Ethiopia (1991-)   \n",
       "28                 Military Forces of Ethiopia (1991-)   \n",
       "29                                  Rioters (Ethiopia)   \n",
       "..                                                 ...   \n",
       "470                 Military Forces of Algeria (1999-)   \n",
       "471            Unidentified Armed Group (South Africa)   \n",
       "472  ZANU-PF: Zimbabwe African National Union-Patri...   \n",
       "473              Unidentified Communal Militia (Sudan)   \n",
       "474                    Rizaygat Ethnic Militia (Sudan)   \n",
       "475            Unidentified Armed Group (South Africa)   \n",
       "476                          Protesters (South Africa)   \n",
       "477  AMISOM: African Union Mission in Somalia (2007...   \n",
       "478  AMISOM: African Union Mission in Somalia (2007...   \n",
       "479                Unidentified Clan Militia (Somalia)   \n",
       "480  AMISOM: African Union Mission in Somalia (2007...   \n",
       "481  AMISOM: African Union Mission in Somalia (2007...   \n",
       "482              Boko Haram - Wilayat Gharb Ifriqiyyah   \n",
       "483                Military Forces of Nigeria (2015-)    \n",
       "484                Military Forces of Nigeria (2015-)    \n",
       "485                               Protesters (Morocco)   \n",
       "486                   Military Forces of Libya (2014-)   \n",
       "487                         Luo Ethnic Militia (Kenya)   \n",
       "488                                   Rioters (Guinea)   \n",
       "489          Protesters (Democratic Republic of Congo)   \n",
       "490                 Military Forces of Algeria (1999-)   \n",
       "491  ZANU-PF: Zimbabwe African National Union-Patri...   \n",
       "492                               Protesters (Tunisia)   \n",
       "493                   Military Forces of Sudan (1989-)   \n",
       "494                   Military Forces of Sudan (1989-)   \n",
       "495               Brigades for the Defence of Benghazi   \n",
       "496                              Protesters (Ethiopia)   \n",
       "497                   Military Forces of Egypt (2014-)   \n",
       "498                             Rioters (Burkina Faso)   \n",
       "499                      Fulani Ethnic Militia (Ghana)   \n",
       "\n",
       "                                                actor2  \\\n",
       "0                                                        \n",
       "1                                  Civilians (Somalia)   \n",
       "2                              Islamic State (Tripoli)   \n",
       "3                              Islamic State (Tripoli)   \n",
       "4                                                        \n",
       "5                     Unidentified Armed Group (Egypt)   \n",
       "6    Police Forces of Democratic Republic of Congo ...   \n",
       "7    Police Forces of Democratic Republic of Congo ...   \n",
       "8                                                        \n",
       "9                                                        \n",
       "10         UPND: United Party for National Development   \n",
       "11                                    Rioters (Uganda)   \n",
       "12                                                       \n",
       "13                                                       \n",
       "14                                                       \n",
       "15                                                       \n",
       "16                                                       \n",
       "17                                                       \n",
       "18                                                       \n",
       "19                                                       \n",
       "20                                          Al Shabaab   \n",
       "21                            Civilians (Sierra Leone)   \n",
       "22           Police Forces of Mali (2013-) Gendarmerie   \n",
       "23                   Shura Council of Darnah Mujahidin   \n",
       "24                             Islamic State (Tripoli)   \n",
       "25     BRSC: Shura Council of Benghazi Revolutionaries   \n",
       "26                                   Civilians (Kenya)   \n",
       "27                               Protesters (Ethiopia)   \n",
       "28                                Civilians (Ethiopia)   \n",
       "29                 Military Forces of Ethiopia (1991-)   \n",
       "..                                                 ...   \n",
       "470                          Soldiers of the Caliphate   \n",
       "471                           Civilians (South Africa)   \n",
       "472                               Civilians (Zimbabwe)   \n",
       "473                                  Civilians (Sudan)   \n",
       "474                  Habbaniyah Ethnic Militia (Sudan)   \n",
       "475                           Civilians (South Africa)   \n",
       "476                                                      \n",
       "477                                         Al Shabaab   \n",
       "478                                         Al Shabaab   \n",
       "479                Unidentified Clan Militia (Somalia)   \n",
       "480                                         Al Shabaab   \n",
       "481                                         Al Shabaab   \n",
       "482                                Civilians (Nigeria)   \n",
       "483              Boko Haram - Wilayat Gharb Ifriqiyyah   \n",
       "484              Boko Haram - Wilayat Gharb Ifriqiyyah   \n",
       "485                                                      \n",
       "486               Brigades for the Defence of Benghazi   \n",
       "487                       Nandi Ethnic Militia (Kenya)   \n",
       "488                  Military Forces of Guinea (2010-)   \n",
       "489                                                      \n",
       "490                          Soldiers of the Caliphate   \n",
       "491                               Civilians (Zimbabwe)   \n",
       "492                                                      \n",
       "493                                                      \n",
       "494                                                      \n",
       "495                                                      \n",
       "496                                                      \n",
       "497                                     State of Sinai   \n",
       "498                                                      \n",
       "499                    Konkomba Ethnic Militia (Ghana)   \n",
       "\n",
       "                            admin1                admin2  \\\n",
       "0                           Lusaka                Lusaka   \n",
       "1                              Bay              Baydhabo   \n",
       "2                             Surt                  Surt   \n",
       "3                             Surt                  Surt   \n",
       "4                           Oromia           Horo Guduru   \n",
       "5                      North Sinai                 Rafah   \n",
       "6                          Katanga               Kolwezi   \n",
       "7                        Orientale                 Ituri   \n",
       "8                       Manicaland                Makoni   \n",
       "9               Matabeleland South            Beitbridge   \n",
       "10                          Lusaka                Lusaka   \n",
       "11                         Kampala               Kampala   \n",
       "12                            Arua     Arua Municipality   \n",
       "13                    Sidi Bou Zid           Bir El Hfay   \n",
       "14                    Western Cape     City of Cape Town   \n",
       "15                         Gauteng       City of Tshwane   \n",
       "16                         Limpopo                Vhembe   \n",
       "17                    Western Cape     City of Cape Town   \n",
       "18                   KwaZulu-Natal             eThekwini   \n",
       "19                         Gauteng  City of Johannesburg   \n",
       "20                          Bakool               Radbure   \n",
       "21                          Kaduna          Kaduna North   \n",
       "22                             Gao                Menaka   \n",
       "23                          Darnah                Darnah   \n",
       "24                            Surt                  Surt   \n",
       "25              Al Hizam Al Akhdar              Benghazi   \n",
       "26                         Mandera         Mandera South   \n",
       "27                          Oromia        Misraq Harerge   \n",
       "28                          Oromia        Misraq Harerge   \n",
       "29                          Oromia        Misraq Wellega   \n",
       "..                             ...                   ...   \n",
       "470                          Medea            El Oumaria   \n",
       "471                  KwaZulu-Natal              Zululand   \n",
       "472                         Harare                Harare   \n",
       "473                         Darfur          North Darfur   \n",
       "474                         Darfur          South Darfur   \n",
       "475                     North West              Bojanala   \n",
       "476                   Western Cape     City of Cape Town   \n",
       "477              Shabeellaha Hoose                 Marka   \n",
       "478              Shabeellaha Hoose                 Marka   \n",
       "479              Shabeellaha Hoose                 Marka   \n",
       "480                      Galguduud         Dhuusamarreeb   \n",
       "481                      Galguduud             Ceel Buur   \n",
       "482                          Borno            Kala-Balge   \n",
       "483                          Borno                 Ngala   \n",
       "484                          Borno                 Ngala   \n",
       "485  Rabat - Sale - Zemmour - Zaer                 Rabat   \n",
       "486                       Ajdabiya              Al Wahat   \n",
       "487                          Nandi                Emgwen   \n",
       "488                           Labe                  Mali   \n",
       "489                      Orientale             Kisangani   \n",
       "490                          Medea            El Oumaria   \n",
       "491                         Harare                Harare   \n",
       "492                   Sidi Bou Zid              Meknassi   \n",
       "493                       Kordofan        South Kordofan   \n",
       "494                      Blue Nile             Blue Nile   \n",
       "495                       Ajdabiya              Al Wahat   \n",
       "496                         Oromia            Mirab Arsi   \n",
       "497                    North Sinai            El Arish 1   \n",
       "498                    Centre-Nord            Sanmatenga   \n",
       "499                        Eastern          Afram Plains   \n",
       "\n",
       "                      admin3  \\\n",
       "0                              \n",
       "1                              \n",
       "2                              \n",
       "3                              \n",
       "4                      Amuru   \n",
       "5                              \n",
       "6                    Kolwezi   \n",
       "7                      Djugu   \n",
       "8                 Makoni RDC   \n",
       "9    Beitbridge Town Council   \n",
       "10                             \n",
       "11          Central Division   \n",
       "12                 Arua Hill   \n",
       "13                             \n",
       "14         City of Cape Town   \n",
       "15           City of Tshwane   \n",
       "16                    Musina   \n",
       "17         City of Cape Town   \n",
       "18                 Ethekwini   \n",
       "19      City of Johannesburg   \n",
       "20                             \n",
       "21                             \n",
       "22                    Menaka   \n",
       "23                             \n",
       "24                             \n",
       "25                             \n",
       "26               Elwak South   \n",
       "27                 Haro Maya   \n",
       "28                 Haro Maya   \n",
       "29                 Haro Limu   \n",
       "..                       ...   \n",
       "470                            \n",
       "471                  Nongoma   \n",
       "472      Harare City Council   \n",
       "473                            \n",
       "474                            \n",
       "475                 Madibeng   \n",
       "476        City of Cape Town   \n",
       "477                            \n",
       "478                            \n",
       "479                            \n",
       "480                            \n",
       "481                            \n",
       "482                            \n",
       "483                            \n",
       "484                            \n",
       "485         NA (Agdal Riyad)   \n",
       "486                            \n",
       "487                 Kapsabet   \n",
       "488              Mali-Centre   \n",
       "489                Kisangani   \n",
       "490                            \n",
       "491      Harare City Council   \n",
       "492                            \n",
       "493                            \n",
       "494                            \n",
       "495                            \n",
       "496               Shashamane   \n",
       "497                            \n",
       "498                     Kaya   \n",
       "499                            \n",
       "\n",
       "                                          ally_actor_1  \\\n",
       "0                                                        \n",
       "1                                                        \n",
       "2                    Misratah Communal Militia (Libya)   \n",
       "3                    Misratah Communal Militia (Libya)   \n",
       "4                        Oromo Ethnic Group (Ethiopia)   \n",
       "5                                                        \n",
       "6                                                        \n",
       "7                                                        \n",
       "8                                                        \n",
       "9                                                        \n",
       "10                            Militia (Pro-Government)   \n",
       "11                                                       \n",
       "12                                   Students (Uganda)   \n",
       "13                                                       \n",
       "14   SANEF: South African National Editors' Forum; ...   \n",
       "15                                                       \n",
       "16                                                       \n",
       "17                                                       \n",
       "18   SANEF: South African National Editors' Forum; ...   \n",
       "19   SANEF: South African National Editors' Forum; ...   \n",
       "20                                                       \n",
       "21                                                       \n",
       "22                                                       \n",
       "23                                                       \n",
       "24                   Misratah Communal Militia (Libya)   \n",
       "25                                                       \n",
       "26                                                       \n",
       "27                                                       \n",
       "28                                                       \n",
       "29                       Oromo Ethnic Group (Ethiopia)   \n",
       "..                                                 ...   \n",
       "470                                                      \n",
       "471                                                      \n",
       "472                                                      \n",
       "473                                                      \n",
       "474                                                      \n",
       "475                                                      \n",
       "476                                                      \n",
       "477                                                      \n",
       "478                                                      \n",
       "479                                                      \n",
       "480                                                      \n",
       "481                                                      \n",
       "482                                                      \n",
       "483                                                      \n",
       "484                                                      \n",
       "485                                                      \n",
       "486                                                      \n",
       "487                                                      \n",
       "488                                                      \n",
       "489                                                      \n",
       "490                                                      \n",
       "491                                                      \n",
       "492                                                      \n",
       "493                                                      \n",
       "494                                                      \n",
       "495                           Ajdabiya Liberation Room   \n",
       "496                      Oromo Ethnic Group (Ethiopia)   \n",
       "497                                                      \n",
       "498                MPP: People's Movement for Progress   \n",
       "499                                                      \n",
       "\n",
       "                                          ally_actor_2  \\\n",
       "0                                                        \n",
       "1                                                        \n",
       "2                                                        \n",
       "3                                                        \n",
       "4                                                        \n",
       "5                                                        \n",
       "6                                                        \n",
       "7                                                        \n",
       "8                                                        \n",
       "9                                                        \n",
       "10                                                       \n",
       "11                                                       \n",
       "12                                                       \n",
       "13                                                       \n",
       "14                                                       \n",
       "15                                                       \n",
       "16                                                       \n",
       "17                                                       \n",
       "18                                                       \n",
       "19                                                       \n",
       "20                                                       \n",
       "21                  Government of Sierra Leone (2007-)   \n",
       "22                     Military Forces of Mali (2013-)   \n",
       "23                                                       \n",
       "24                                                       \n",
       "25                                                       \n",
       "26                                                       \n",
       "27   Students (Ethiopia); Oromo Ethnic Group (Ethio...   \n",
       "28                       Oromo Ethnic Group (Ethiopia)   \n",
       "29                                                       \n",
       "..                                                 ...   \n",
       "470                                                      \n",
       "471                         IFP: Inkatha Freedom Party   \n",
       "472  MDC-T: Movement for Democratic Change (Tsvangi...   \n",
       "473                                                      \n",
       "474                                                      \n",
       "475                     ANC: African National Congress   \n",
       "476                                                      \n",
       "477                                                      \n",
       "478                                                      \n",
       "479                                                      \n",
       "480                                                      \n",
       "481                                                      \n",
       "482                                                      \n",
       "483                                                      \n",
       "484                                                      \n",
       "485                                                      \n",
       "486                           Ajdabiya Liberation Room   \n",
       "487                                                      \n",
       "488                                                      \n",
       "489                                                      \n",
       "490                                                      \n",
       "491                                                      \n",
       "492                                                      \n",
       "493                                                      \n",
       "494                                                      \n",
       "495                                                      \n",
       "496                                                      \n",
       "497                                                      \n",
       "498                                                      \n",
       "499                                                      \n",
       "\n",
       "                          country data_id  event_date  ...  inter1 inter2  \\\n",
       "0                          Zambia   83522  2016-07-02  ...       6      0   \n",
       "1                         Somalia   80863  2016-07-02  ...       2      7   \n",
       "2                           Libya   78468  2016-07-02  ...       1      2   \n",
       "3                           Libya   78467  2016-07-02  ...       1      2   \n",
       "4                        Ethiopia   77695  2016-07-02  ...       6      0   \n",
       "5                           Egypt   77109  2016-07-02  ...       1      3   \n",
       "6    Democratic Republic of Congo   76659  2016-07-02  ...       5      1   \n",
       "7    Democratic Republic of Congo   76658  2016-07-02  ...       5      1   \n",
       "8                        Zimbabwe   83604  2016-07-01  ...       5      0   \n",
       "9                        Zimbabwe   83603  2016-07-01  ...       5      0   \n",
       "10                         Zambia   83521  2016-07-01  ...       1      3   \n",
       "11                         Uganda   83437  2016-07-01  ...       1      5   \n",
       "12                         Uganda   83436  2016-07-01  ...       5      0   \n",
       "13                        Tunisia   83263  2016-07-01  ...       6      0   \n",
       "14                   South Africa   81715  2016-07-01  ...       6      0   \n",
       "15                   South Africa   81714  2016-07-01  ...       6      0   \n",
       "16                   South Africa   81713  2016-07-01  ...       6      0   \n",
       "17                   South Africa   81712  2016-07-01  ...       6      0   \n",
       "18                   South Africa   81711  2016-07-01  ...       6      0   \n",
       "19                   South Africa   81710  2016-07-01  ...       6      0   \n",
       "20                        Somalia   80862  2016-07-01  ...       8      2   \n",
       "21                        Nigeria   79625  2016-07-01  ...       3      7   \n",
       "22                           Mali   78633  2016-07-01  ...       3      1   \n",
       "23                          Libya   78466  2016-07-01  ...       1      3   \n",
       "24                          Libya   78465  2016-07-01  ...       1      2   \n",
       "25                          Libya   78464  2016-07-01  ...       1      3   \n",
       "26                          Kenya   77928  2016-07-01  ...       3      7   \n",
       "27                       Ethiopia   77694  2016-07-01  ...       1      6   \n",
       "28                       Ethiopia   77693  2016-07-01  ...       1      7   \n",
       "29                       Ethiopia   77692  2016-07-01  ...       5      1   \n",
       "..                            ...     ...         ...  ...     ...    ...   \n",
       "470                       Algeria   75612  2016-06-19  ...       1      2   \n",
       "471                  South Africa   81665  2016-06-18  ...       3      7   \n",
       "472                      Zimbabwe   83594  2016-06-18  ...       3      7   \n",
       "473                         Sudan   82697  2016-06-18  ...       4      7   \n",
       "474                         Sudan   82696  2016-06-18  ...       4      4   \n",
       "475                  South Africa   81664  2016-06-18  ...       3      7   \n",
       "476                  South Africa   81663  2016-06-18  ...       6      0   \n",
       "477                       Somalia   80824  2016-06-18  ...       8      2   \n",
       "478                       Somalia   80823  2016-06-18  ...       8      2   \n",
       "479                       Somalia   80822  2016-06-18  ...       4      4   \n",
       "480                       Somalia   80821  2016-06-18  ...       8      2   \n",
       "481                       Somalia   80820  2016-06-18  ...       8      2   \n",
       "482                       Nigeria   79582  2016-06-18  ...       2      7   \n",
       "483                       Nigeria   79581  2016-06-18  ...       1      2   \n",
       "484                       Nigeria   79580  2016-06-18  ...       1      2   \n",
       "485                       Morocco   78691  2016-06-18  ...       6      0   \n",
       "486                         Libya   78415  2016-06-18  ...       1      3   \n",
       "487                         Kenya   77913  2016-06-18  ...       4      4   \n",
       "488                        Guinea   77779  2016-06-18  ...       5      1   \n",
       "489  Democratic Republic of Congo   76634  2016-06-18  ...       6      0   \n",
       "490                       Algeria   75611  2016-06-18  ...       1      2   \n",
       "491                      Zimbabwe   83593  2016-06-18  ...       3      7   \n",
       "492                       Tunisia   83241  2016-06-18  ...       6      0   \n",
       "493                         Sudan   82695  2016-06-18  ...       1      0   \n",
       "494                         Sudan   82694  2016-06-18  ...       1      0   \n",
       "495                         Libya   78416  2016-06-18  ...       3      0   \n",
       "496                      Ethiopia   77664  2016-06-18  ...       6      0   \n",
       "497                         Egypt   77082  2016-06-18  ...       1      3   \n",
       "498                  Burkina Faso   75695  2016-06-18  ...       5      0   \n",
       "499                         Ghana   77746  2016-06-17  ...       4      4   \n",
       "\n",
       "    interaction  latitude             location longitude  \\\n",
       "0            60  -15.4166               Lusaka   28.2833   \n",
       "1            27   3.11718               Baidoa   43.6469   \n",
       "2            12   31.2089                Sirte   16.5887   \n",
       "3            12   31.2089                Sirte   16.5887   \n",
       "4            60   9.98333                Amuru   36.9667   \n",
       "5            13   31.2878                Rafah   34.2369   \n",
       "6            15  -10.7167              Kolwezi   25.4725   \n",
       "7            15   2.11772                 Kafe   30.1209   \n",
       "8            50  -18.7333               Rusape   32.0333   \n",
       "9            50  -22.2167           Beitbridge   29.9833   \n",
       "10           13  -15.4166               Lusaka   28.2833   \n",
       "11           15    0.3156              Kampala   32.5656   \n",
       "12           50    3.0192                 Arua   30.9308   \n",
       "13           60   34.9321         Bir el Hafey   9.19321   \n",
       "14           60  -33.9186            Sea Point   18.3897   \n",
       "15           60  -25.7449             Pretoria   28.1878   \n",
       "16           60  -22.3488               Musina   30.0407   \n",
       "17           60  -33.9406       Matroosfontein   18.5745   \n",
       "18           60  -29.8579               Durban   31.0292   \n",
       "19           60  -26.1814        Auckland Park   28.0039   \n",
       "20           28   4.35351           Rab Dhuure   43.1616   \n",
       "21           37   10.5222               Kaduna   7.43828   \n",
       "22           13   15.9182               Menaka    2.4022   \n",
       "23           13    32.767                Darna   22.6367   \n",
       "24           12   31.2089                Sirte   16.5887   \n",
       "25           13    32.029             Ganfouda   20.0162   \n",
       "26           37   2.80944               El Wak   40.9358   \n",
       "27           16   9.41304  Haramaya University   42.0342   \n",
       "28           17   9.35773               Aweday   42.0458   \n",
       "29           15    9.9167                Harar   36.2667   \n",
       "..          ...       ...                  ...       ...   \n",
       "470          12   36.3632               Bahata   3.11046   \n",
       "471          37     -27.9              Nongoma     31.65   \n",
       "472          37  -17.8858            Highfield   30.9919   \n",
       "473          47   14.1524           Fata Borno    24.561   \n",
       "474          44   11.0169                Buram   24.3331   \n",
       "475          37  -25.4307             Maboloka   27.8487   \n",
       "476          60  -34.0393          Khayelitsha   18.6792   \n",
       "477          28    1.7087          Shalaambood    44.696   \n",
       "478          28      1.75               Buufow     44.75   \n",
       "479          44   1.71305                Marka   44.7639   \n",
       "480          28   5.53764        Dhuusamarreeb   46.3867   \n",
       "481          28   4.23805         Ceel Lahelay   47.7306   \n",
       "482          27   12.3667                Wumbi     14.35   \n",
       "483          12    12.373              Gamboru   14.2069   \n",
       "484          12   12.2333             Bulagana   14.0833   \n",
       "485          60   34.0132                Rabat  -6.83255   \n",
       "486          13   30.7554             Ajdabiya   20.2263   \n",
       "487          44   0.20387             Kapsabet    35.105   \n",
       "488          15   12.0833                 Mali     -12.3   \n",
       "489          60   0.51469            Kisangani   25.1896   \n",
       "490          12   36.3632               Bahata   3.11046   \n",
       "491          37  -17.8333               Harare     31.05   \n",
       "492          60   34.6043           Al Miknasi   9.60815   \n",
       "493          10   11.0142              Kadugli   29.7294   \n",
       "494          10   11.7898           Ed Damazin   34.3599   \n",
       "495          30   30.7554             Ajdabiya   20.2263   \n",
       "496          60       7.2           Shashamane      38.6   \n",
       "497          13   31.1316             Al Arish   33.7984   \n",
       "498          50   13.0917                 Kaya   -1.0844   \n",
       "499          44   6.90388             Odumesua  -0.27349   \n",
       "\n",
       "                                                 notes  \\\n",
       "0    University of Zambia workers go on strike over...   \n",
       "1    Two people were killed and 18 were wounded dur...   \n",
       "2    In the past 24 hours, the air force launched n...   \n",
       "3    Three Libyan government troops were killed on ...   \n",
       "4    People protested against the government agenda...   \n",
       "5    Two military personnel were injured in a roads...   \n",
       "6    2 miners were injured in clashes with guards o...   \n",
       "7    Following a death of a prisoner in the custody...   \n",
       "8    In Rusape, angry residents barricaded roads wi...   \n",
       "9    Zimbabwe's army was deployed in the restive bo...   \n",
       "10   Police and paramilitary officers raided UPND c...   \n",
       "11   Traffic police and boda boda riders clashed in...   \n",
       "12   Unidentified students at Mvara Secondary Schoo...   \n",
       "13   Hospital agents went on strike in Bir El Hafey...   \n",
       "14   Journalists and memebr of the South African Na...   \n",
       "15   Hundreds of community health workers who claim...   \n",
       "16   Protests have broken out on the Beitbridge bor...   \n",
       "17   Protesters blockading the N2 near the Borcherd...   \n",
       "18   Scores of journalists and social activists gat...   \n",
       "19   Scores of journalists and social activists gat...   \n",
       "20   Al Shabaab takes control of Rab Dhuure after A...   \n",
       "21   Unknown gunmen on 01/07 kidnapped Sierra-Leone...   \n",
       "22   Two armed men on motorcycles killed two gendar...   \n",
       "23   The Derna Mujahideen Shoura Council says that ...   \n",
       "24   Bunyan Marsous forces moved closer toward Ibn ...   \n",
       "25   The Libya National Army (LNA) says that it has...   \n",
       "26   Six people were killed and scores injured when...   \n",
       "27   Students protested against the government agen...   \n",
       "28   At least four people were killed in Awaday whe...   \n",
       "29   People are closing roads around Harar and Dire...   \n",
       "..                                                 ...   \n",
       "470  Fourteen armed Islamists were killed in the we...   \n",
       "471  The Inkatha Freedom Party has condemned the re...   \n",
       "472  A private media journalist and scores of MDC-T...   \n",
       "473     Cattle raiders fire on civiians, injuring one.   \n",
       "474  Rizaygat and Habbaniyah sign peace agreement i...   \n",
       "475  No arrests have been made in connection with t...   \n",
       "476  A gun was fired during a protest outside a Kha...   \n",
       "477  Based in Shalaambood, al Shabaab fired long ra...   \n",
       "478  Based in Shalaambood, al Shabaab fired long ra...   \n",
       "479  Heavy fighting erupted in Marka between two un...   \n",
       "480  Two vehicles, a pickup truck and a cargo vehic...   \n",
       "481  Al Shabaab forces carried out an attack on Eth...   \n",
       "482  Two are killed during a Boko Haram raid on Wum...   \n",
       "483  Military forces clear Bulagana and Gambori of ...   \n",
       "484  Military forces clear Bulagana and Gambori of ...   \n",
       "485  Tens of Moroccan women from civil society orga...   \n",
       "486  In the evening of 18 June, LNA sources reporte...   \n",
       "487  Two are dead in or near Kopere trading centre ...   \n",
       "488  21 people were injured, including four with bu...   \n",
       "489  20 teachers from a Kisangani primary school pr...   \n",
       "490  Fourteen armed Islamists were killed in the we...   \n",
       "491  A Harare man has been brutally attacked and in...   \n",
       "492  Civil society organisations organised a protes...   \n",
       "493  Bashir declares unilateral 4-month ceasefire i...   \n",
       "494  Bashir declares unilateral 4-month ceasefire i...   \n",
       "495  On 18 June, a group calling itself the Ajdabiy...   \n",
       "496  People protested in Shashamene against a recen...   \n",
       "497  At least 30 alleged State of Sinai militants w...   \n",
       "498  Hundreds of protesters with clubs and machetes...   \n",
       "499  Clashes between Fulani and Konkombas herdsmen ...   \n",
       "\n",
       "                                                source time_precision  year  \n",
       "0                                     Zambian Watchdog              1  2016  \n",
       "1                                Agence France Presse               1  2016  \n",
       "2                          Xinhua General News Service              2  2016  \n",
       "3                          Xinhua General News Service              1  2016  \n",
       "4                                Oromiya Media Network              1  2016  \n",
       "5                                    Egypt Independent              1  2016  \n",
       "6                                          Radio Okapi              1  2016  \n",
       "7                                          Radio Okapi              1  2016  \n",
       "8                                          Manica Post              1  2016  \n",
       "9                                               News24              1  2016  \n",
       "10                              Zambia Reports; Xinhua              1  2016  \n",
       "11                                        Chimpreports              1  2016  \n",
       "12                                Uganda Radio Network              1  2016  \n",
       "13                                            Shems FM              1  2016  \n",
       "14                                              News24              1  2016  \n",
       "15                Pretoria News Weekend (South Africa)              1  2016  \n",
       "16                                     Eyewitness News              1  2016  \n",
       "17                                              News24              1  2016  \n",
       "18                                 African News Agency              1  2016  \n",
       "19                                 African News Agency              1  2016  \n",
       "20                                        Somali Memo               1  2016  \n",
       "21                                              Xinhua              1  2016  \n",
       "22                     Associated Press International               1  2016  \n",
       "23                                        Libya Herald              1  2016  \n",
       "24                  Libya Herald; Agence France Presse              1  2016  \n",
       "25                                        Libya Herald              1  2016  \n",
       "26                                        The Standard              1  2016  \n",
       "27                               Oromiya Media Network              1  2016  \n",
       "28                               Oromiya Media Network              1  2016  \n",
       "29                               Oromiya Media Network              1  2016  \n",
       "..                                                 ...            ...   ...  \n",
       "470       Agence France Presse; Algerie Presse Service              1  2016  \n",
       "471                     Inkatha Freedom Party (Durban)              1  2016  \n",
       "472                                     The Zimbabwean              1  2016  \n",
       "473                                      Radio Dabanga              1  2016  \n",
       "474                                      Radio Tamazuj              1  2016  \n",
       "475                                African News Agency              1  2016  \n",
       "476                                       Sunday Argus              1  2016  \n",
       "477                            Shabelle Media Network               1  2016  \n",
       "478                            Shabelle Media Network               1  2016  \n",
       "479                                             Baidoa              1  2016  \n",
       "480                                     Radio Andalus               1  2016  \n",
       "481                                     Radio Andalus               1  2016  \n",
       "482                              Agence France Presse               1  2016  \n",
       "483                                   Nigerian Tribune              1  2016  \n",
       "484                                   Nigerian Tribune              1  2016  \n",
       "485                                    Assabah website              1  2016  \n",
       "486                       Al-Arabiya; The Tripoli Post              1  2016  \n",
       "487                               Daily Nation (Kenya)              1  2016  \n",
       "488  Agence France Presse -- English; Xinhua Genera...              1  2016  \n",
       "489                                        Radio Okapi              1  2016  \n",
       "490       Agence France Presse; Algerie Presse Service              1  2016  \n",
       "491                                         Bulawayo24              1  2016  \n",
       "492                                        Mosaique FM              1  2016  \n",
       "493                               Agence France Presse              1  2016  \n",
       "494                               Agence France Presse              1  2016  \n",
       "495                                         Al-Arabiya              1  2016  \n",
       "496                              Oromiya Media Network              1  2016  \n",
       "497                                  Egypt Independent              1  2016  \n",
       "498                   Agence d'Informations du Burkina              1  2016  \n",
       "499                                     Daily Graphic               1  2016  \n",
       "\n",
       "[500 rows x 26 columns]>"
      ]
     },
     "execution_count": 316,
     "metadata": {},
     "output_type": "execute_result"
    }
   ],
   "source": [
    "df.info"
   ]
  },
  {
   "cell_type": "code",
   "execution_count": null,
   "metadata": {
    "collapsed": false
   },
   "outputs": [],
   "source": []
  },
  {
   "cell_type": "code",
   "execution_count": null,
   "metadata": {
    "collapsed": true
   },
   "outputs": [],
   "source": []
  }
 ],
 "metadata": {
  "kernelspec": {
   "display_name": "Python 2",
   "language": "python",
   "name": "python2"
  },
  "language_info": {
   "codemirror_mode": {
    "name": "ipython",
    "version": 2
   },
   "file_extension": ".py",
   "mimetype": "text/x-python",
   "name": "python",
   "nbconvert_exporter": "python",
   "pygments_lexer": "ipython2",
   "version": "2.7.10"
  }
 },
 "nbformat": 4,
 "nbformat_minor": 0
}
