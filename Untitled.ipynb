{
 "cells": [
  {
   "cell_type": "code",
   "execution_count": 4,
   "metadata": {
    "collapsed": true
   },
   "outputs": [],
   "source": [
    "def numberToLetters(q):\n",
    "    q = q - 1\n",
    "    print q\n",
    "    result = ''\n",
    "    while q >= 0:\n",
    "        remain = q % 26\n",
    "        print remain\n",
    "        result = chr(remain+65) + result; #adds remained to 65, turns it into a string letter and appens to result str\n",
    "        print result\n",
    "        q = q//26 - 1 \n",
    "        print q\n",
    "    return result"
   ]
  },
  {
   "cell_type": "code",
   "execution_count": 2,
   "metadata": {
    "collapsed": false
   },
   "outputs": [
    {
     "ename": "NameError",
     "evalue": "name 'q' is not defined",
     "output_type": "error",
     "traceback": [
      "\u001b[0;31m---------------------------------------------------------------------------\u001b[0m",
      "\u001b[0;31mNameError\u001b[0m                                 Traceback (most recent call last)",
      "\u001b[0;32m<ipython-input-2-e463b8764688>\u001b[0m in \u001b[0;36m<module>\u001b[0;34m()\u001b[0m\n\u001b[0;32m----> 1\u001b[0;31m \u001b[0mq\u001b[0m \u001b[0;34m=\u001b[0m \u001b[0mq\u001b[0m \u001b[0;34m-\u001b[0m\u001b[0;36m1\u001b[0m \u001b[0;31m#this is the input, sets the correct value for q\u001b[0m\u001b[0;34m\u001b[0m\u001b[0m\n\u001b[0m\u001b[1;32m      2\u001b[0m \u001b[0mresult\u001b[0m \u001b[0;34m=\u001b[0m \u001b[0;34m\"\"\u001b[0m \u001b[0;31m#creates an empty string called result\u001b[0m\u001b[0;34m\u001b[0m\u001b[0m\n\u001b[1;32m      3\u001b[0m \u001b[0;32mwhile\u001b[0m \u001b[0mq\u001b[0m \u001b[0;34m>=\u001b[0m \u001b[0;36m0\u001b[0m\u001b[0;34m:\u001b[0m \u001b[0;31m#creates a while loop that runs for as long as your input is great than or equal to zero\u001b[0m\u001b[0;34m\u001b[0m\u001b[0m\n\u001b[1;32m      4\u001b[0m     \u001b[0mremain\u001b[0m \u001b[0;34m=\u001b[0m \u001b[0mq\u001b[0m \u001b[0;34m%\u001b[0m\u001b[0;36m26\u001b[0m \u001b[0;31m#sets remain to the remindar of function argument divided by 26\u001b[0m\u001b[0;34m\u001b[0m\u001b[0m\n\u001b[1;32m      5\u001b[0m     \u001b[0mresult\u001b[0m \u001b[0;34m=\u001b[0m \u001b[0mchr\u001b[0m\u001b[0;34m(\u001b[0m\u001b[0mremain\u001b[0m\u001b[0;34m+\u001b[0m\u001b[0;36m65\u001b[0m\u001b[0;34m)\u001b[0m \u001b[0;34m+\u001b[0m \u001b[0mresult\u001b[0m\u001b[0;34m;\u001b[0m \u001b[0;31m#adds remained to 65, turns it into a string letter and appens to result str\u001b[0m\u001b[0;34m\u001b[0m\u001b[0m\n",
      "\u001b[0;31mNameError\u001b[0m: name 'q' is not defined"
     ]
    }
   ],
   "source": [
    "q = q -1 #this is the input, sets the correct value for q\n",
    "result = \"\" #creates an empty string called result\n",
    "while q >= 0: #creates a while loop that runs for as long as your input is great than or equal to zero\n",
    "    remain = q %26 #sets remain to the remindar of function argument divided by 26\n",
    "    result = chr(remain+65) + result; #adds remained to 65, turns it into a string letter and appens to result str\n",
    "    q = q //26 -1 #divides q by 26, keeps the quotient, drops remainder and then sybstracts 1\n",
    "return result"
   ]
  },
  {
   "cell_type": "code",
   "execution_count": 11,
   "metadata": {
    "collapsed": false
   },
   "outputs": [
    {
     "name": "stdout",
     "output_type": "stream",
     "text": [
      "26\n",
      "0\n",
      "A\n",
      "0\n",
      "0\n",
      "AA\n",
      "-1\n"
     ]
    },
    {
     "data": {
      "text/plain": [
       "'AA'"
      ]
     },
     "execution_count": 11,
     "metadata": {},
     "output_type": "execute_result"
    }
   ],
   "source": [
    "numberToLetters(27)"
   ]
  },
  {
   "cell_type": "code",
   "execution_count": 6,
   "metadata": {
    "collapsed": false
   },
   "outputs": [
    {
     "data": {
      "text/plain": [
       "5"
      ]
     },
     "execution_count": 6,
     "metadata": {},
     "output_type": "execute_result"
    }
   ],
   "source": [
    "5%26"
   ]
  },
  {
   "cell_type": "code",
   "execution_count": 7,
   "metadata": {
    "collapsed": false
   },
   "outputs": [
    {
     "data": {
      "text/plain": [
       "0"
      ]
     },
     "execution_count": 7,
     "metadata": {},
     "output_type": "execute_result"
    }
   ],
   "source": [
    "5/26"
   ]
  },
  {
   "cell_type": "code",
   "execution_count": null,
   "metadata": {
    "collapsed": true
   },
   "outputs": [],
   "source": [
    "# columns names\n",
    "columns = df.columns.values.tolist() #this grabs column names and puts them in a list named claums\n",
    "# selection of the range that will be updated\n",
    "cell_list = ws.range('A1:'+numberToLetters(len(columns))+'1') #creates a range object, counts # columns and sends to number to letter functions, going one row past what you need\n",
    "# modifying the values in the range\n",
    "for cell in cell_list: #iteraites through each row\n",
    "    val = columns[cell.col-1] #cell.col grabs the place in list that cell is, substracts 1, then calls the column name at that position, savies to val\n",
    "    if type(val) is str:\n",
    "        val = val.decode('utf-8') #encodes the string into a value\n",
    "    cell.value = val #encodes the values of the cell\n",
    "# update in batch\n",
    "ws.update_cells(cell_list) #then sents a batch update to cell list"
   ]
  }
 ],
 "metadata": {
  "kernelspec": {
   "display_name": "Python 2",
   "language": "python",
   "name": "python2"
  },
  "language_info": {
   "codemirror_mode": {
    "name": "ipython",
    "version": 2
   },
   "file_extension": ".py",
   "mimetype": "text/x-python",
   "name": "python",
   "nbconvert_exporter": "python",
   "pygments_lexer": "ipython2",
   "version": "2.7.11"
  }
 },
 "nbformat": 4,
 "nbformat_minor": 0
}
